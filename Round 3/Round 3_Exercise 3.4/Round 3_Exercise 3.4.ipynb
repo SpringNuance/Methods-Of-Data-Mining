{
  "cells": [
    {
      "cell_type": "markdown",
      "source": [
        "<div align=\"center\">\n",
        "\n",
        "# **CS-E4650 Methods of Data Mining**\n",
        "\n",
        "# **Exercise 3.4 Bird associations**\n",
        "\n",
        "</div>"
      ],
      "metadata": {
        "id": "OgQTDzypVG6u"
      }
    },
    {
      "cell_type": "markdown",
      "source": [
        ":<div align=\"center\">\n",
        "    \n",
        "# **Group members**\n",
        "\n",
        "# **Nguyen Xuan Binh (887799)**\n",
        "\n",
        "# **Erald Shahinas (906845)**\n",
        "\n",
        "# **Alexander Pavlyuk (906829)**\n",
        "\n",
        "</div>\n",
        "\n",
        "</br>\n",
        "</br>\n",
        "</br>"
      ],
      "metadata": {
        "id": "ypgQ_i6PWTig"
      }
    },
    {
      "cell_type": "markdown",
      "metadata": {
        "id": "VlLOaXPbYNr6"
      },
      "source": [
        "# **Table of Contents**\n",
        "\n",
        "### 1. [Methods](#1)\n",
        "### 2. [Feature extraction](#2)\n",
        "### 3. [Results](#3)\n",
        "### 4. [Appendix](#6)\n",
        "\n",
        "</br>\n",
        "</br>\n",
        "</br>\n",
        "</br>\n",
        "</br>\n",
        "</br>\n",
        "</br>\n",
        "</br>\n",
        "</br>\n",
        "</br>\n",
        "</br>"
      ]
    },
    {
      "cell_type": "markdown",
      "metadata": {
        "id": "Vf0Wi10IXfKA"
      },
      "source": [
        "## **1. Methods**"
      ]
    },
    {
      "cell_type": "markdown",
      "metadata": {
        "id": "noWC_99Yhxy7"
      },
      "source": [
        "All the calculations have been perfomed on JypyterHub (https://jupyter.cs.aalto.fi) in the Python notebook. Additionally, numpy (https://numpy.org/), matplotlib (https://matplotlib.org/), pandas (https://pandas.pydata.org/), and scikit-learn (https://scikit-learn.org/stable/index.html) libraries have been imported to handle specific functions.\n"
      ]
    },
    {
      "cell_type": "code",
      "execution_count": null,
      "metadata": {
        "id": "CsVYEfz32m9r"
      },
      "outputs": [],
      "source": [
        "# Import libraries\n",
        "import numpy as np\n",
        "import pandas as pd\n",
        "import matplotlib.pyplot as plt\n",
        "\n",
        "from sklearn.cluster import KMeans, SpectralClustering\n",
        "from sklearn.metrics import silhouette_score, calinski_harabasz_score, normalized_mutual_info_score\n",
        "from sklearn.metrics.pairwise import rbf_kernel"
      ]
    },
    {
      "cell_type": "markdown",
      "metadata": {
        "id": "s3W2XjJgC0CI"
      },
      "source": [
        "*Learning goals: Mining association rules in practice; making efficient data mining pipelines*\n",
        "\n",
        "This is an explorative task, where you should invent good features to extract from the extended bird data and then search and analyze association rules. The pattern discovery process is iterative, and you will very likely\n",
        "experiment with multiple versions of feature extraction. Therefore, it is recommended to do the preparations well and make a shell script that speeds up the process. You can find instructions and hints in MyCourses (instructionsforkingfisher.pdf). You can find an extended version of the bird species data, birdspeciesv2.csv, and its description in MyCourses."
      ]
    },
    {
      "cell_type": "markdown",
      "metadata": {
        "id": "UDAlICoGeQpr"
      },
      "source": [
        "## **2. Feature extraction**"
      ]
    },
    {
      "cell_type": "code",
      "source": [
        "birddf = pd.read_csv('birdspeciesv2.csv', sep=';')\n",
        "birddf.head()"
      ],
      "metadata": {
        "colab": {
          "base_uri": "https://localhost:8080/",
          "height": 359
        },
        "id": "MNnoU-k5sZ1o",
        "outputId": "5ef645fd-0c1d-48b9-e472-c04ae50bb48e"
      },
      "execution_count": null,
      "outputs": [
        {
          "output_type": "execute_result",
          "data": {
            "text/plain": [
              "       species    group length    wspan    weight         back  belly  sim  \\\n",
              "0   pikkulokki  laridae  25-27    62-69   100-150   light-grey  white  Yes   \n",
              "1   naurulokki  laridae  34-38    86-99   200-350   light-grey  white  Yes   \n",
              "2    kalalokki  laridae  40-44   99-108   350-500  bluish-grey  white  Yes   \n",
              "3   selkälokki  laridae  52-60  117-134   700-800        black  white  Yes   \n",
              "4  harmaalokki  laridae  55-65  123-148  800-1300  bluish-grey  white  Yes   \n",
              "\n",
              "  billcol           legcol  ... incub ccare  \\\n",
              "0   black              red  ...  both  both   \n",
              "1     red              red  ...  both  both   \n",
              "2  yellow  greenish-yellow  ...  both  both   \n",
              "3  yellow           yellow  ...  both  both   \n",
              "4  yellow          reddish  ...  both  both   \n",
              "\n",
              "                              biotope                         diet diver  \\\n",
              "0  nutrient-rich-lakes,ponds,sea-bays  insects,fish,plankton,worms    No   \n",
              "1                      lakes,sea-bays   fish,invertebrates,garbage    No   \n",
              "2         lakes,archipelago,marshland           worms,fish,insects    No   \n",
              "3                     sea-coast,lakes                         fish    No   \n",
              "4           lakes,sea-coast,marshland    fish,garbage,chicks,grain    No   \n",
              "\n",
              "  long-billed webbed-feet long-legs wading-bird plunge-dives  \n",
              "0          No         Yes        No          No          Yes  \n",
              "1          No         Yes        No          No          Yes  \n",
              "2          No         Yes        No          No          Yes  \n",
              "3          No         Yes        No          No          Yes  \n",
              "4          No         Yes        No          No          Yes  \n",
              "\n",
              "[5 rows x 23 columns]"
            ],
            "text/html": [
              "\n",
              "  <div id=\"df-b838f997-2b1c-4eb1-9262-3e27ed7f0b97\" class=\"colab-df-container\">\n",
              "    <div>\n",
              "<style scoped>\n",
              "    .dataframe tbody tr th:only-of-type {\n",
              "        vertical-align: middle;\n",
              "    }\n",
              "\n",
              "    .dataframe tbody tr th {\n",
              "        vertical-align: top;\n",
              "    }\n",
              "\n",
              "    .dataframe thead th {\n",
              "        text-align: right;\n",
              "    }\n",
              "</style>\n",
              "<table border=\"1\" class=\"dataframe\">\n",
              "  <thead>\n",
              "    <tr style=\"text-align: right;\">\n",
              "      <th></th>\n",
              "      <th>species</th>\n",
              "      <th>group</th>\n",
              "      <th>length</th>\n",
              "      <th>wspan</th>\n",
              "      <th>weight</th>\n",
              "      <th>back</th>\n",
              "      <th>belly</th>\n",
              "      <th>sim</th>\n",
              "      <th>billcol</th>\n",
              "      <th>legcol</th>\n",
              "      <th>...</th>\n",
              "      <th>incub</th>\n",
              "      <th>ccare</th>\n",
              "      <th>biotope</th>\n",
              "      <th>diet</th>\n",
              "      <th>diver</th>\n",
              "      <th>long-billed</th>\n",
              "      <th>webbed-feet</th>\n",
              "      <th>long-legs</th>\n",
              "      <th>wading-bird</th>\n",
              "      <th>plunge-dives</th>\n",
              "    </tr>\n",
              "  </thead>\n",
              "  <tbody>\n",
              "    <tr>\n",
              "      <th>0</th>\n",
              "      <td>pikkulokki</td>\n",
              "      <td>laridae</td>\n",
              "      <td>25-27</td>\n",
              "      <td>62-69</td>\n",
              "      <td>100-150</td>\n",
              "      <td>light-grey</td>\n",
              "      <td>white</td>\n",
              "      <td>Yes</td>\n",
              "      <td>black</td>\n",
              "      <td>red</td>\n",
              "      <td>...</td>\n",
              "      <td>both</td>\n",
              "      <td>both</td>\n",
              "      <td>nutrient-rich-lakes,ponds,sea-bays</td>\n",
              "      <td>insects,fish,plankton,worms</td>\n",
              "      <td>No</td>\n",
              "      <td>No</td>\n",
              "      <td>Yes</td>\n",
              "      <td>No</td>\n",
              "      <td>No</td>\n",
              "      <td>Yes</td>\n",
              "    </tr>\n",
              "    <tr>\n",
              "      <th>1</th>\n",
              "      <td>naurulokki</td>\n",
              "      <td>laridae</td>\n",
              "      <td>34-38</td>\n",
              "      <td>86-99</td>\n",
              "      <td>200-350</td>\n",
              "      <td>light-grey</td>\n",
              "      <td>white</td>\n",
              "      <td>Yes</td>\n",
              "      <td>red</td>\n",
              "      <td>red</td>\n",
              "      <td>...</td>\n",
              "      <td>both</td>\n",
              "      <td>both</td>\n",
              "      <td>lakes,sea-bays</td>\n",
              "      <td>fish,invertebrates,garbage</td>\n",
              "      <td>No</td>\n",
              "      <td>No</td>\n",
              "      <td>Yes</td>\n",
              "      <td>No</td>\n",
              "      <td>No</td>\n",
              "      <td>Yes</td>\n",
              "    </tr>\n",
              "    <tr>\n",
              "      <th>2</th>\n",
              "      <td>kalalokki</td>\n",
              "      <td>laridae</td>\n",
              "      <td>40-44</td>\n",
              "      <td>99-108</td>\n",
              "      <td>350-500</td>\n",
              "      <td>bluish-grey</td>\n",
              "      <td>white</td>\n",
              "      <td>Yes</td>\n",
              "      <td>yellow</td>\n",
              "      <td>greenish-yellow</td>\n",
              "      <td>...</td>\n",
              "      <td>both</td>\n",
              "      <td>both</td>\n",
              "      <td>lakes,archipelago,marshland</td>\n",
              "      <td>worms,fish,insects</td>\n",
              "      <td>No</td>\n",
              "      <td>No</td>\n",
              "      <td>Yes</td>\n",
              "      <td>No</td>\n",
              "      <td>No</td>\n",
              "      <td>Yes</td>\n",
              "    </tr>\n",
              "    <tr>\n",
              "      <th>3</th>\n",
              "      <td>selkälokki</td>\n",
              "      <td>laridae</td>\n",
              "      <td>52-60</td>\n",
              "      <td>117-134</td>\n",
              "      <td>700-800</td>\n",
              "      <td>black</td>\n",
              "      <td>white</td>\n",
              "      <td>Yes</td>\n",
              "      <td>yellow</td>\n",
              "      <td>yellow</td>\n",
              "      <td>...</td>\n",
              "      <td>both</td>\n",
              "      <td>both</td>\n",
              "      <td>sea-coast,lakes</td>\n",
              "      <td>fish</td>\n",
              "      <td>No</td>\n",
              "      <td>No</td>\n",
              "      <td>Yes</td>\n",
              "      <td>No</td>\n",
              "      <td>No</td>\n",
              "      <td>Yes</td>\n",
              "    </tr>\n",
              "    <tr>\n",
              "      <th>4</th>\n",
              "      <td>harmaalokki</td>\n",
              "      <td>laridae</td>\n",
              "      <td>55-65</td>\n",
              "      <td>123-148</td>\n",
              "      <td>800-1300</td>\n",
              "      <td>bluish-grey</td>\n",
              "      <td>white</td>\n",
              "      <td>Yes</td>\n",
              "      <td>yellow</td>\n",
              "      <td>reddish</td>\n",
              "      <td>...</td>\n",
              "      <td>both</td>\n",
              "      <td>both</td>\n",
              "      <td>lakes,sea-coast,marshland</td>\n",
              "      <td>fish,garbage,chicks,grain</td>\n",
              "      <td>No</td>\n",
              "      <td>No</td>\n",
              "      <td>Yes</td>\n",
              "      <td>No</td>\n",
              "      <td>No</td>\n",
              "      <td>Yes</td>\n",
              "    </tr>\n",
              "  </tbody>\n",
              "</table>\n",
              "<p>5 rows × 23 columns</p>\n",
              "</div>\n",
              "    <div class=\"colab-df-buttons\">\n",
              "\n",
              "  <div class=\"colab-df-container\">\n",
              "    <button class=\"colab-df-convert\" onclick=\"convertToInteractive('df-b838f997-2b1c-4eb1-9262-3e27ed7f0b97')\"\n",
              "            title=\"Convert this dataframe to an interactive table.\"\n",
              "            style=\"display:none;\">\n",
              "\n",
              "  <svg xmlns=\"http://www.w3.org/2000/svg\" height=\"24px\" viewBox=\"0 -960 960 960\">\n",
              "    <path d=\"M120-120v-720h720v720H120Zm60-500h600v-160H180v160Zm220 220h160v-160H400v160Zm0 220h160v-160H400v160ZM180-400h160v-160H180v160Zm440 0h160v-160H620v160ZM180-180h160v-160H180v160Zm440 0h160v-160H620v160Z\"/>\n",
              "  </svg>\n",
              "    </button>\n",
              "\n",
              "  <style>\n",
              "    .colab-df-container {\n",
              "      display:flex;\n",
              "      gap: 12px;\n",
              "    }\n",
              "\n",
              "    .colab-df-convert {\n",
              "      background-color: #E8F0FE;\n",
              "      border: none;\n",
              "      border-radius: 50%;\n",
              "      cursor: pointer;\n",
              "      display: none;\n",
              "      fill: #1967D2;\n",
              "      height: 32px;\n",
              "      padding: 0 0 0 0;\n",
              "      width: 32px;\n",
              "    }\n",
              "\n",
              "    .colab-df-convert:hover {\n",
              "      background-color: #E2EBFA;\n",
              "      box-shadow: 0px 1px 2px rgba(60, 64, 67, 0.3), 0px 1px 3px 1px rgba(60, 64, 67, 0.15);\n",
              "      fill: #174EA6;\n",
              "    }\n",
              "\n",
              "    .colab-df-buttons div {\n",
              "      margin-bottom: 4px;\n",
              "    }\n",
              "\n",
              "    [theme=dark] .colab-df-convert {\n",
              "      background-color: #3B4455;\n",
              "      fill: #D2E3FC;\n",
              "    }\n",
              "\n",
              "    [theme=dark] .colab-df-convert:hover {\n",
              "      background-color: #434B5C;\n",
              "      box-shadow: 0px 1px 3px 1px rgba(0, 0, 0, 0.15);\n",
              "      filter: drop-shadow(0px 1px 2px rgba(0, 0, 0, 0.3));\n",
              "      fill: #FFFFFF;\n",
              "    }\n",
              "  </style>\n",
              "\n",
              "    <script>\n",
              "      const buttonEl =\n",
              "        document.querySelector('#df-b838f997-2b1c-4eb1-9262-3e27ed7f0b97 button.colab-df-convert');\n",
              "      buttonEl.style.display =\n",
              "        google.colab.kernel.accessAllowed ? 'block' : 'none';\n",
              "\n",
              "      async function convertToInteractive(key) {\n",
              "        const element = document.querySelector('#df-b838f997-2b1c-4eb1-9262-3e27ed7f0b97');\n",
              "        const dataTable =\n",
              "          await google.colab.kernel.invokeFunction('convertToInteractive',\n",
              "                                                    [key], {});\n",
              "        if (!dataTable) return;\n",
              "\n",
              "        const docLinkHtml = 'Like what you see? Visit the ' +\n",
              "          '<a target=\"_blank\" href=https://colab.research.google.com/notebooks/data_table.ipynb>data table notebook</a>'\n",
              "          + ' to learn more about interactive tables.';\n",
              "        element.innerHTML = '';\n",
              "        dataTable['output_type'] = 'display_data';\n",
              "        await google.colab.output.renderOutput(dataTable, element);\n",
              "        const docLink = document.createElement('div');\n",
              "        docLink.innerHTML = docLinkHtml;\n",
              "        element.appendChild(docLink);\n",
              "      }\n",
              "    </script>\n",
              "  </div>\n",
              "\n",
              "\n",
              "<div id=\"df-33e04dc7-a460-47fe-8883-49d8c7c0aed3\">\n",
              "  <button class=\"colab-df-quickchart\" onclick=\"quickchart('df-33e04dc7-a460-47fe-8883-49d8c7c0aed3')\"\n",
              "            title=\"Suggest charts.\"\n",
              "            style=\"display:none;\">\n",
              "\n",
              "<svg xmlns=\"http://www.w3.org/2000/svg\" height=\"24px\"viewBox=\"0 0 24 24\"\n",
              "     width=\"24px\">\n",
              "    <g>\n",
              "        <path d=\"M19 3H5c-1.1 0-2 .9-2 2v14c0 1.1.9 2 2 2h14c1.1 0 2-.9 2-2V5c0-1.1-.9-2-2-2zM9 17H7v-7h2v7zm4 0h-2V7h2v10zm4 0h-2v-4h2v4z\"/>\n",
              "    </g>\n",
              "</svg>\n",
              "  </button>\n",
              "\n",
              "<style>\n",
              "  .colab-df-quickchart {\n",
              "      --bg-color: #E8F0FE;\n",
              "      --fill-color: #1967D2;\n",
              "      --hover-bg-color: #E2EBFA;\n",
              "      --hover-fill-color: #174EA6;\n",
              "      --disabled-fill-color: #AAA;\n",
              "      --disabled-bg-color: #DDD;\n",
              "  }\n",
              "\n",
              "  [theme=dark] .colab-df-quickchart {\n",
              "      --bg-color: #3B4455;\n",
              "      --fill-color: #D2E3FC;\n",
              "      --hover-bg-color: #434B5C;\n",
              "      --hover-fill-color: #FFFFFF;\n",
              "      --disabled-bg-color: #3B4455;\n",
              "      --disabled-fill-color: #666;\n",
              "  }\n",
              "\n",
              "  .colab-df-quickchart {\n",
              "    background-color: var(--bg-color);\n",
              "    border: none;\n",
              "    border-radius: 50%;\n",
              "    cursor: pointer;\n",
              "    display: none;\n",
              "    fill: var(--fill-color);\n",
              "    height: 32px;\n",
              "    padding: 0;\n",
              "    width: 32px;\n",
              "  }\n",
              "\n",
              "  .colab-df-quickchart:hover {\n",
              "    background-color: var(--hover-bg-color);\n",
              "    box-shadow: 0 1px 2px rgba(60, 64, 67, 0.3), 0 1px 3px 1px rgba(60, 64, 67, 0.15);\n",
              "    fill: var(--button-hover-fill-color);\n",
              "  }\n",
              "\n",
              "  .colab-df-quickchart-complete:disabled,\n",
              "  .colab-df-quickchart-complete:disabled:hover {\n",
              "    background-color: var(--disabled-bg-color);\n",
              "    fill: var(--disabled-fill-color);\n",
              "    box-shadow: none;\n",
              "  }\n",
              "\n",
              "  .colab-df-spinner {\n",
              "    border: 2px solid var(--fill-color);\n",
              "    border-color: transparent;\n",
              "    border-bottom-color: var(--fill-color);\n",
              "    animation:\n",
              "      spin 1s steps(1) infinite;\n",
              "  }\n",
              "\n",
              "  @keyframes spin {\n",
              "    0% {\n",
              "      border-color: transparent;\n",
              "      border-bottom-color: var(--fill-color);\n",
              "      border-left-color: var(--fill-color);\n",
              "    }\n",
              "    20% {\n",
              "      border-color: transparent;\n",
              "      border-left-color: var(--fill-color);\n",
              "      border-top-color: var(--fill-color);\n",
              "    }\n",
              "    30% {\n",
              "      border-color: transparent;\n",
              "      border-left-color: var(--fill-color);\n",
              "      border-top-color: var(--fill-color);\n",
              "      border-right-color: var(--fill-color);\n",
              "    }\n",
              "    40% {\n",
              "      border-color: transparent;\n",
              "      border-right-color: var(--fill-color);\n",
              "      border-top-color: var(--fill-color);\n",
              "    }\n",
              "    60% {\n",
              "      border-color: transparent;\n",
              "      border-right-color: var(--fill-color);\n",
              "    }\n",
              "    80% {\n",
              "      border-color: transparent;\n",
              "      border-right-color: var(--fill-color);\n",
              "      border-bottom-color: var(--fill-color);\n",
              "    }\n",
              "    90% {\n",
              "      border-color: transparent;\n",
              "      border-bottom-color: var(--fill-color);\n",
              "    }\n",
              "  }\n",
              "</style>\n",
              "\n",
              "  <script>\n",
              "    async function quickchart(key) {\n",
              "      const quickchartButtonEl =\n",
              "        document.querySelector('#' + key + ' button');\n",
              "      quickchartButtonEl.disabled = true;  // To prevent multiple clicks.\n",
              "      quickchartButtonEl.classList.add('colab-df-spinner');\n",
              "      try {\n",
              "        const charts = await google.colab.kernel.invokeFunction(\n",
              "            'suggestCharts', [key], {});\n",
              "      } catch (error) {\n",
              "        console.error('Error during call to suggestCharts:', error);\n",
              "      }\n",
              "      quickchartButtonEl.classList.remove('colab-df-spinner');\n",
              "      quickchartButtonEl.classList.add('colab-df-quickchart-complete');\n",
              "    }\n",
              "    (() => {\n",
              "      let quickchartButtonEl =\n",
              "        document.querySelector('#df-33e04dc7-a460-47fe-8883-49d8c7c0aed3 button');\n",
              "      quickchartButtonEl.style.display =\n",
              "        google.colab.kernel.accessAllowed ? 'block' : 'none';\n",
              "    })();\n",
              "  </script>\n",
              "</div>\n",
              "    </div>\n",
              "  </div>\n"
            ]
          },
          "metadata": {},
          "execution_count": 42
        }
      ]
    },
    {
      "cell_type": "markdown",
      "source": [
        "Describe compactly but carefully what\n",
        "features you extracted. You can, e.g., use a list or a table that tells the original feature, new attributes, and how they were extracted. Describe carefully non-trivial extraction (like handling numerical values or migration month ranges)."
      ],
      "metadata": {
        "id": "LLd4ZMu3EPUl"
      }
    },
    {
      "cell_type": "markdown",
      "source": [
        "__(a) Extract good features for association discovery from the bird data.\n",
        "You can find interesting associations only, if the involved properties\n",
        "are captured by features! It is suggested to proceed iteratively, from\n",
        "easier to more difficult features:__\n",
        "\n",
        "\n",
        "– Group, habitat and diet can be used as such (just list group and all elements of habitat and diet in the transaction).\n"
      ],
      "metadata": {
        "id": "K29JBVKXDjtM"
      }
    },
    {
      "cell_type": "code",
      "source": [
        "group = birddf[\"group\"]\n",
        "group.drop_duplicates(inplace=True)\n",
        "group_vals = [\"group_\"+g for g in birddf[\"group\"].to_list()]\n",
        "group_ft = list(set([\"group_\"+item for item in group]))\n",
        "print(f\"The {len(group_ft)} bird groups are: \")\n",
        "print(group_ft)\n",
        "print()\n",
        "\n",
        "diet = birddf[\"diet\"]\n",
        "diet = diet.to_numpy()\n",
        "diet = [line.split(\",\") for line in diet]\n",
        "diet_ft = list(set([\"diet_\"+item for sublist in diet for item in sublist]))\n",
        "print(f\"The {len(diet_ft)} diet are: \")\n",
        "print(diet_ft)\n",
        "print()\n",
        "diet_vals = [[\"diet_\"+item for item in sublist] for sublist in diet]\n",
        "# print(diet_vals)\n",
        "\n",
        "habitat = birddf[\"biotope\"]\n",
        "habitat = habitat.to_numpy()\n",
        "habitat = [line.split(\",\") for line in habitat]\n",
        "habitat_ft = list(set([\"habitat_\"+item for sublist in habitat for item in sublist]))\n",
        "print(f\"The {len(diet_ft)} habitat are: \")\n",
        "print(habitat_ft)\n",
        "habitat_vals = [[\"habitat_\"+item for item in sublist] for sublist in habitat]\n",
        "# print(habitat_vals)\n"
      ],
      "metadata": {
        "id": "x7kP7rcW62Fu",
        "outputId": "cb0790f5-3ee0-4778-894c-d5399bf3588e",
        "colab": {
          "base_uri": "https://localhost:8080/"
        }
      },
      "execution_count": null,
      "outputs": [
        {
          "output_type": "stream",
          "name": "stdout",
          "text": [
            "The 15 bird groups are: \n",
            "['group_gruifores', 'group_rallidae', 'group_ardeidae', 'group_dabbling-ducks', 'group_diving-ducks', 'group_phalacrocoracidae', 'group_laridae', 'group_cygnini', 'group_anserini', 'group_podicipedidae', 'group_gaviidae', 'group_scolopacidae', 'group_haematopodidae', 'group_charadriidae', 'group_sternidae']\n",
            "\n",
            "The 23 diet are: \n",
            "['diet_snails', 'diet_garbage', 'diet_lizards', 'diet_shellfish', 'diet_seeds', 'diet_snakes', 'diet_berries', 'diet_invertebrates', 'diet_frogs', 'diet_chicks', 'diet_algae', 'diet_fish', 'diet_worms', 'diet_vertebrae', 'diet_insects', 'diet_plankton', 'diet_grass', 'diet_plants', 'diet_clams', 'diet_grain', 'diet_larvae', 'diet_small-rodents', 'diet_molluscs']\n",
            "\n",
            "The 23 habitat are: \n",
            "['habitat_pastures', 'habitat_nutrient-rich-lakes', 'habitat_reedbeds', 'habitat_fells', 'habitat_marshland', 'habitat_coastal-meadows', 'habitat_archipelago', 'habitat_wetlands', 'habitat_lakes', 'habitat_meadows', 'habitat_seashores', 'habitat_fields', 'habitat_streams', 'habitat_shores', 'habitat_forests', 'habitat_sea-bays', 'habitat_islets', 'habitat_sea-coast', 'habitat_ponds']\n"
          ]
        }
      ]
    },
    {
      "cell_type": "markdown",
      "source": [
        "\n",
        "– For most binary features (like long-billed), you can use only the Yes-values (list attribute “long-billed” in the transaction, but forget its opposite, “non-long-billed”). The only exception is field sim, where both values are interesting (if genders look similar or different).\n"
      ],
      "metadata": {
        "id": "FZikttcI6uLX"
      }
    },
    {
      "cell_type": "code",
      "source": [
        "# Binary features\n",
        "binary_ft = [col for col in birddf.columns if birddf[col].isin(['Yes', 'No']).all()]\n",
        "\n",
        "binary_vals = []\n",
        "for i in range(len(group_vals)):\n",
        "    binary_vals.append([])\n",
        "    for ft in binary_ft:\n",
        "        if birddf[ft][i] == \"Yes\":\n",
        "            binary_vals[i].append(ft)\n",
        "\n",
        "\n",
        "# Adding non similarity feature\n",
        "binary_ft += [\"non-sim\"]\n",
        "for i in range(len(group_vals)):\n",
        "    if birddf[\"sim\"][i] == \"No\":\n",
        "        binary_vals[i].append(\"non-sim\")\n",
        "\n",
        "print(\"The binary features are:\\n\")\n",
        "print(binary_ft)"
      ],
      "metadata": {
        "id": "f6HBaNei66k_",
        "outputId": "545e03ad-59d9-4c25-e9e5-952cce82a15b",
        "colab": {
          "base_uri": "https://localhost:8080/"
        }
      },
      "execution_count": null,
      "outputs": [
        {
          "output_type": "stream",
          "name": "stdout",
          "text": [
            "The binary features are:\n",
            "\n",
            "['sim', 'diver', 'long-billed', 'webbed-feet', 'long-legs', 'wading-bird', 'plunge-dives', 'non-sim']\n"
          ]
        }
      ]
    },
    {
      "cell_type": "markdown",
      "source": [
        "\n",
        "– For multi-valued categorical features, you can create one attribute for each value.\n"
      ],
      "metadata": {
        "id": "KB3g9SM16zNt"
      }
    },
    {
      "cell_type": "code",
      "source": [
        "# Each value of the category is its own feature\n",
        "# Color features only apply to the female.\n",
        "# They apply to male also only if sim is True\n",
        "\n",
        "\n",
        "color_cols = [\"back\",\"belly\",\"billcol\",\"legcol\"]\n",
        "cat_columns = color_cols + [\"incub\" ,\"ccare\"]\n",
        "print(f\"The {len(cat_columns)} multivalued categorical features are\\n\")\n",
        "print(birddf[cat_columns].head())\n",
        "\n",
        "cat_ft = []\n",
        "\n",
        "for col in cat_columns:\n",
        "    cat_ft += [col+\"_\"+item for item in birddf[col].unique()]\n",
        "cat_ft\n",
        "# print(cat_ft)\n",
        "\n",
        "cat_vals = []\n",
        "for i in range(len(group_vals)):\n",
        "    cat_vals.append([])\n",
        "    for ft in color_cols:\n",
        "        if birddf[\"sim\"][i] == \"Yes\":\n",
        "            cat_vals[i].append(ft+\"_\"+birddf[ft][i])\n",
        "\n",
        "for i in range(len(group_vals)):\n",
        "    for ft in [\"incub\" ,\"ccare\"]:\n",
        "        cat_vals[i].append(ft+\"_\"+birddf[ft][i])\n",
        "# print(cat_vals)"
      ],
      "metadata": {
        "id": "LneRfCfe6_i5",
        "colab": {
          "base_uri": "https://localhost:8080/"
        },
        "outputId": "d208573a-c049-45df-fe5b-e24cd639346d"
      },
      "execution_count": null,
      "outputs": [
        {
          "output_type": "stream",
          "name": "stdout",
          "text": [
            "The 6 multivalued categorical features are\n",
            "\n",
            "          back  belly billcol           legcol incub ccare\n",
            "0   light-grey  white   black              red  both  both\n",
            "1   light-grey  white     red              red  both  both\n",
            "2  bluish-grey  white  yellow  greenish-yellow  both  both\n",
            "3        black  white  yellow           yellow  both  both\n",
            "4  bluish-grey  white  yellow          reddish  both  both\n"
          ]
        }
      ]
    },
    {
      "cell_type": "markdown",
      "source": [
        "\n",
        "– Invent some informative features from the spring and autumn migrations times (fields “arrives” and “leaves”), e.g., describing that migration starts early or ends late.\n"
      ],
      "metadata": {
        "id": "MR3Yv8I260Nd"
      }
    },
    {
      "cell_type": "code",
      "source": [
        "#Features for bird if it arrives early or late\n",
        "\n",
        "# Check each row if the period starts at March or before\n",
        "def is_march_or_before(row):\n",
        "    # List of months to check\n",
        "    months_before_april = ['January', 'February', 'March']\n",
        "\n",
        "    return any(month in row for month in months_before_april)\n",
        "\n",
        "# Check each row if the period end at October or after\n",
        "def is_october_or_after(row):\n",
        "    # List of months to check\n",
        "    months_after_september = ['October', 'November', 'December']\n",
        "\n",
        "    return any(month in row for month in months_after_september)\n",
        "\n",
        "arrives = birddf[\"arrives\"]\n",
        "leaves = birddf[\"leaves\"]\n",
        "arrives_e = arrives.apply(is_march_or_before)\n",
        "early_vals = []\n",
        "for i in range(len(group_vals)):\n",
        "    early_vals.append([])\n",
        "    if arrives_e[i]:\n",
        "        early_vals[i].append(\"arrives_early\")\n",
        "leaves_l = leaves.apply(is_october_or_after)\n",
        "late_vals = []\n",
        "for i in range(len(group_vals)):\n",
        "    late_vals.append([])\n",
        "    if leaves_l[i]:\n",
        "        late_vals[i].append(\"leaves_late\")\n",
        "\n",
        "\n",
        "migration_ft = [\"arrives_early\", \"leaves_late\"]\n",
        "print(\"The two migration features are\")\n",
        "print(migration_ft)"
      ],
      "metadata": {
        "id": "NCYsW4ZZ7H00",
        "colab": {
          "base_uri": "https://localhost:8080/"
        },
        "outputId": "bf213c44-6af4-457f-f8aa-82c8206a069f"
      },
      "execution_count": null,
      "outputs": [
        {
          "output_type": "stream",
          "name": "stdout",
          "text": [
            "The two migration features are\n",
            "['arrives_early', 'leaves_late']\n"
          ]
        }
      ]
    },
    {
      "cell_type": "markdown",
      "source": [
        "\n",
        "– Invent how to handle numerical features. Usually, only the extremes are interesting, like laying relatively few eggs or many eggs."
      ],
      "metadata": {
        "id": "fCViyxfY61JO"
      }
    },
    {
      "cell_type": "code",
      "source": [
        "#Numerical features\n",
        "num_columns = [\"length\", \"wspan\", \"weight\", \"eggs\"]\n",
        "num_ft = [\"extreme_\"+col for col in num_columns]\n",
        "print(\"The numerical features are:\")\n",
        "print(num_ft)\n",
        "\n",
        "num_values = birddf[num_columns]\n",
        "\n",
        "#find the mean of each range\n",
        "for col in num_columns:\n",
        "    num_values[col] = num_values[col].apply(lambda x: np.mean([float(item) for item in x.split(\"-\")]))\n",
        "\n",
        "\n",
        "# find the standard deviation of each column\n",
        "std = num_values.std(axis=0)\n",
        "\n",
        "\n",
        "num_vals = []\n",
        "# extreme feature is true only if the range mean is more than 2 standard deviations away from the mean of the column\n",
        "for i in range(len(group_vals)):\n",
        "    num_vals.append([])\n",
        "    for col in num_columns:\n",
        "        extremes = num_values[col].apply(lambda x: True if x > std[col]*2 else \"\")\n",
        "        if extremes[i]:\n",
        "            num_vals[i].append(\"extreme_\"+col)\n",
        "\n",
        "\n",
        "\n"
      ],
      "metadata": {
        "id": "txUVbiRsADZS",
        "colab": {
          "base_uri": "https://localhost:8080/"
        },
        "outputId": "b3ba7653-3a7b-4aa5-d47f-4a019db0bca4"
      },
      "execution_count": null,
      "outputs": [
        {
          "output_type": "stream",
          "name": "stdout",
          "text": [
            "The numerical features are:\n",
            "['extreme_length', 'extreme_wspan', 'extreme_weight', 'extreme_eggs']\n"
          ]
        },
        {
          "output_type": "stream",
          "name": "stderr",
          "text": [
            "<ipython-input-47-a45ea5826824>:11: SettingWithCopyWarning: \n",
            "A value is trying to be set on a copy of a slice from a DataFrame.\n",
            "Try using .loc[row_indexer,col_indexer] = value instead\n",
            "\n",
            "See the caveats in the documentation: https://pandas.pydata.org/pandas-docs/stable/user_guide/indexing.html#returning-a-view-versus-a-copy\n",
            "  num_values[col] = num_values[col].apply(lambda x: np.mean([float(item) for item in x.split(\"-\")]))\n"
          ]
        }
      ]
    },
    {
      "cell_type": "code",
      "source": [
        "# New feature - BMI\n",
        "\n",
        "# Mean weight values\n",
        "weight = birddf[\"weight\"].to_numpy()\n",
        "wight_mean = np.array([])\n",
        "for interval in weight:\n",
        "    lower, upper = map(int, interval.split('-'))\n",
        "    mean = (lower + upper) / 2\n",
        "    wight_mean = np.append(wight_mean, mean)\n",
        "\n",
        "# Mean length values\n",
        "length = birddf[\"length\"].to_numpy()\n",
        "length_mean = np.array([])\n",
        "for interval in length:\n",
        "    lower, upper = map(int, interval.split('-'))\n",
        "    mean = (lower + upper) / 2\n",
        "    length_mean = np.append(length_mean, mean)\n",
        "\n",
        "# Mean BMI index\n",
        "bmi_vals = (wight_mean/1000) / (length_mean/100)**2\n",
        "\n",
        "# Binary BMI feature\n",
        "bmi_ft = [\"high_BMI\", \"small_BMI\"]\n",
        "high_bmi_vals = np.where(bmi_vals > bmi_vals.mean(), \"high_BMI\", \"small_BMI\")\n",
        "\n",
        "# New feature - WSI\n",
        "\n",
        "# Mean wing span values\n",
        "wspan = birddf[\"wspan\"].to_numpy()\n",
        "wspan_mean = np.array([])\n",
        "for interval in wspan:\n",
        "    lower, upper = map(int, interval.split('-'))\n",
        "    mean = (lower + upper) / 2\n",
        "    wspan_mean = np.append(wspan_mean, mean)\n",
        "\n",
        "# Mean WSI index\n",
        "wsi_vals = wspan_mean / length_mean\n",
        "\n",
        "# Binary WSI feature\n",
        "wsi_ft = [\"high_WSI\", \"small_WSI\"]\n",
        "high_WSI_vals = np.where(wsi_vals > wsi_vals.mean(), \"high_WSI\", \"small_WSI\")\n"
      ],
      "metadata": {
        "id": "cz_jVhRte1Kb"
      },
      "execution_count": null,
      "outputs": []
    },
    {
      "cell_type": "code",
      "source": [
        "#adding all the features together\n",
        "features =  group_ft + diet_ft + habitat_ft + binary_ft + cat_ft + migration_ft + num_ft + bmi_ft + wsi_ft\n",
        "features_df = pd.DataFrame(features)\n",
        "\n",
        "#adding space in the end for namescodes program to work\n",
        "features_df['Space'] = ''\n",
        "\n",
        "features_df.to_csv(\"birdtable.txt\", sep=\" \", header=False)"
      ],
      "metadata": {
        "id": "Y9hgByg0LMv_"
      },
      "execution_count": null,
      "outputs": []
    },
    {
      "cell_type": "code",
      "source": [
        "values = [[group_vals[i], *diet_vals[i], *habitat_vals[i], *binary_vals[i],*cat_vals[i],*early_vals[i],*late_vals[i], *num_vals[i], high_bmi_vals[i], high_WSI_vals[i] ] for i in range(len(group_vals))]\n",
        "\n",
        "\n",
        "values_df = pd.DataFrame(values)\n",
        "print(values_df.head())\n",
        "#adding space in the end for namescodes program to work\n",
        "values_df['Space'] = ''\n",
        "\n",
        "values_df.to_csv(\"birdstrans.txt\", sep=\" \", header=False, index=False)"
      ],
      "metadata": {
        "id": "N749TGzla1FY",
        "colab": {
          "base_uri": "https://localhost:8080/"
        },
        "outputId": "12b833e8-25c3-4a90-e93d-b15f9f8cb97a"
      },
      "execution_count": null,
      "outputs": [
        {
          "output_type": "stream",
          "name": "stdout",
          "text": [
            "              0             1                   2              3   \\\n",
            "0  group_laridae  diet_insects           diet_fish  diet_plankton   \n",
            "1  group_laridae     diet_fish  diet_invertebrates   diet_garbage   \n",
            "2  group_laridae    diet_worms           diet_fish   diet_insects   \n",
            "3  group_laridae     diet_fish   habitat_sea-coast  habitat_lakes   \n",
            "4  group_laridae     diet_fish        diet_garbage    diet_chicks   \n",
            "\n",
            "              4                            5                  6   \\\n",
            "0     diet_worms  habitat_nutrient-rich-lakes      habitat_ponds   \n",
            "1  habitat_lakes             habitat_sea-bays                sim   \n",
            "2  habitat_lakes          habitat_archipelago  habitat_marshland   \n",
            "3            sim                  webbed-feet       plunge-dives   \n",
            "4     diet_grain                habitat_lakes  habitat_sea-coast   \n",
            "\n",
            "                  7             8                9   ...           18  \\\n",
            "0   habitat_sea-bays           sim      webbed-feet  ...     high_WSI   \n",
            "1        webbed-feet  plunge-dives  back_light-grey  ...         None   \n",
            "2                sim   webbed-feet     plunge-dives  ...     high_WSI   \n",
            "3         back_black   belly_white   billcol_yellow  ...         None   \n",
            "4  habitat_marshland           sim      webbed-feet  ...  leaves_late   \n",
            "\n",
            "               19             20        21        22    23    24    25    26  \\\n",
            "0            None           None      None      None  None  None  None  None   \n",
            "1            None           None      None      None  None  None  None  None   \n",
            "2            None           None      None      None  None  None  None  None   \n",
            "3            None           None      None      None  None  None  None  None   \n",
            "4  extreme_length  extreme_wspan  high_BMI  high_WSI  None  None  None  None   \n",
            "\n",
            "     27  \n",
            "0  None  \n",
            "1  None  \n",
            "2  None  \n",
            "3  None  \n",
            "4  None  \n",
            "\n",
            "[5 rows x 28 columns]\n"
          ]
        }
      ]
    },
    {
      "cell_type": "markdown",
      "source": [
        "__(b) Search association rules with Kingfisher. You may need to search quite\n",
        "many rules (e.g., 300) to find more versatile rules, since there will be\n",
        "many variants of similar associations. Try to find rules that describe different aspects of the data, like different groups, appearance, diet, habits, environment, etc, but remember that all attributes do not necessarily participate any significant associations.__"
      ],
      "metadata": {
        "id": "Mu_37kptEZjt"
      }
    },
    {
      "cell_type": "markdown",
      "source": [
        "---"
      ],
      "metadata": {
        "id": "GicODSq7a17G"
      }
    },
    {
      "cell_type": "markdown",
      "source": [
        "#### **Step 1**: We need to convert the birdspeciesv2.csv into the encoded version like the mushroom.dat file\n",
        "\n",
        "After running the previous code, we obtained the transformed features file __birdstrans.txt__, which contains 64 rows for 64 birds, each row contains the interesting features filtered from part (a). The next text file is __birdtable.txt__, which has only two columns separated by a white space. The first column is the code index and the second column is the feature name. The number of features in \"birdtable.txt\" corresponds to the number of unique entry values in the file \"birdstrans.txt\".\n",
        "\n",
        "Suppose that the current working directory contains the kingfisher and namescodes folder, we run this command to transform labels to numerical codes\n",
        "\n",
        "After running this command, namescodes create a new file called __birdstrans.txt.codes__, which contains encoded numbers for the features since kingfisher can only work with numeric values.\n",
        "\n",
        "```$ ./namescodes/namescodes -n birdstrans.txt -tbirdtable.txt -L```"
      ],
      "metadata": {
        "id": "6-FCd2969EKm"
      }
    },
    {
      "cell_type": "markdown",
      "source": [
        "---"
      ],
      "metadata": {
        "id": "Z9eP4PwRa3Sg"
      }
    },
    {
      "cell_type": "markdown",
      "source": [
        "#### **Step 2**: After that, we define the constraints in the file __constraint.txt__ as follows\n",
        "\n",
        "```\n",
        "diet_insects diet_invertebrates\n",
        "diet_worms diet_invertebrates\n",
        "diet_snails diet_invertebrates\n",
        "diet_larvae diet_invertebrates\n",
        "diet_invertebrates diet_insects diet_worms diet_snails diet_larvae\n",
        "\n",
        "diet_snakes diet_vertebrae\n",
        "diet_chicks diet_vertebrae\n",
        "diet_fish diet_vertebrae\n",
        "diet_frogs diet_vertebrae\n",
        "diet_lizards diet_vertebrae\n",
        "diet_vertebrae diet_lizards diet_frogs diet_fish diet_chicks diet_snakes\n",
        "\n",
        "diet_grass diet_plants\n",
        "diet_grain diet_plants\n",
        "diet_plants diet_grain diet_grass\n",
        "\n",
        "diet_algae diet_plankton\n",
        "diet_plankton diet_algae\n",
        "\n",
        "diet_clams diet_shellfish\n",
        "diet_molluscs diet_shellfish\n",
        "diet_shellfish diet_clams diet_molluscs\n",
        "diet_clams diet_molluscs\n",
        "diet_molluscs diet_clams\n",
        "```"
      ],
      "metadata": {
        "id": "DaSgRSiM7b1g"
      }
    },
    {
      "cell_type": "markdown",
      "source": [
        "Then, the constraints are compiled by namescodes using information from birdtable.txt\n",
        "\n",
        "```$ ./namescodes/namescodes -n constraint.txt -t birdtable.txt```\n",
        "\n",
        "The encoded file for constraints is created with the name __constraint.txt.codes__"
      ],
      "metadata": {
        "id": "vK09Nfaf-pQI"
      }
    },
    {
      "cell_type": "markdown",
      "source": [
        "---"
      ],
      "metadata": {
        "id": "u8UrHW86a41X"
      }
    },
    {
      "cell_type": "markdown",
      "source": [
        "#### **Step 3**: Kingfisher is run to find the most significant associating rules, given the constraints.\n",
        "\n",
        "In this context, we choose these parameters\n",
        "\n",
        "*k = 140*, which corresponds to the upper bound\n",
        "of number of features in birdtable.txt\n",
        "\n",
        "*q = 300*, which means the program outputs max 100 positive association.\n",
        "\n",
        "*M = -5*, which means the program uses the default values, and outputs 100 top rules above based on the criteria $ln(p_F) \\leq −5$\n",
        "\n",
        "Note is that these are just placeholder parameters to help us build the pipeline, as we have not tried out kingfisher thoroughly yet.\n",
        "\n",
        "The running command of Kingfisher is\n",
        "\n",
        "```$ ./kingfisher/kingfisher -i birdstrans.txt.codes -k 152 -M -5 -q300 -o birdrules.txt -b constraint.txt.codes```\n",
        "\n",
        "The rules found by Kingfisher is then printed to the output file __birdrules.txt__. The first few lines show the associating patterns between the features. However, we cannot understand the encoded version, so we need to translate it.\n",
        "\n",
        "```\n",
        "2 9 18 -> 10 fr=10 (0.1562), cf=1.000, gamma=6.400, delta=0.132, M=-2.574e+01\n",
        "9 12 18 -> 10 fr=10 (0.1562), cf=1.000, gamma=6.400, delta=0.132, M=-2.574e+01\n",
        "9 51 -> 49 fr=13 (0.2031), cf=1.000, gamma=4.267, delta=0.156, M=-2.555e+01\n",
        "etc ...\n",
        "```"
      ],
      "metadata": {
        "id": "5DW5WPJ__OB4"
      }
    },
    {
      "cell_type": "markdown",
      "source": [
        "---"
      ],
      "metadata": {
        "id": "-dOVQE-ja6bX"
      }
    },
    {
      "cell_type": "markdown",
      "source": [
        "#### **Step 4**: We translate the numbers back to original features in string format.\n",
        "\n",
        "The command to do this is\n",
        "\n",
        "```$ ./namescodes/namescodes -c birdrules.txt -t birdtable.txt```\n",
        "\n",
        "which outputs the final translation for association result file named __birdrules.txt.names__. Here are the first few lines in that file showing the associating patterns between the features\n",
        "\n",
        "```\n",
        "diet_fish webbed-feet high_WSI -> plunge-dives fr=10 (0.1562), cf=1.000, gamma=6.400, delta=0.132, M=-2.574e+01\n",
        "webbed-feet belly_white high_WSI -> plunge-dives fr=10 (0.1562), cf=1.000, gamma=6.400, delta=0.132, M=-2.574e+01\n",
        "webbed-feet ccare_F -> non-sim fr=13 (0.2031), cf=1.000, gamma=4.267, delta=0.156, M=-2.555e+01\n",
        "etc...\n",
        "```"
      ],
      "metadata": {
        "id": "qoGEssSiN0gn"
      }
    },
    {
      "cell_type": "markdown",
      "source": [
        "#### How to interpret the rules in __birdrules.txt.names__\n",
        "\n",
        "Take for example the first line:\n",
        "\n",
        "*diet_fish webbed-feet high_WSI -> plunge-dives fr=10 (0.1562), cf=1.000, gamma=6.400, delta=0.132, M=-2.574e+01*\n",
        "\n",
        "__Antecedent (Left-hand side)__: diet_fish webbed-feet high_WSI: This part of the rule represents a combination of conditions for association.\n",
        "\n",
        "__Consequent (Right-hand side)__: plunge-dives: This is the outcome or behavior associated with the conditions on the left-hand side\n",
        "\n",
        "__Metrics__:\n",
        "\n",
        "__fr=10__: This is the absolute frequency, indicating that there are 10 rows in the dataset where the combination of diet_fish, webbed-feet, and high_WSI is associated with plunge-dives.\n",
        "\n",
        "__(0.1562)__: This is the support of the rule, calculated as the absolute frequency divided by the total number of rows. As the dataset has 64 rows in total, then 0.1562 = 10/64.\n",
        "\n",
        "__cf=1.000__:\n",
        "This is the confidence of the rule, calculated as the absolute frequency divided by the number of instances where the antecedent is true. In this case, it suggests that whenever a bird has a diet of fish, webbed feet, and a high WSI, it always (100% of the time) engages in plunge-diving.\n",
        "\n",
        "__gamma=6.400__:\n",
        "This is the lift of the rule, calculated as the confidence of the rule divided by the overall probability of the consequent in the dataset. A lift value greater than 1 indicates a positive statistical association between the antecedent and consequent.\n",
        "\n",
        "__delta=0.132__:\n",
        "This is the leverage of the rule, calculated as the support of the rule minus the product of the support of the antecedent and the support of the consequent. It measures the difference between the observed frequency of the antecedent and consequent appearing together and what would be expected if they were independent. A positive value indicates a positive association.\n",
        "\n",
        "__M=-2.574e+01__: This is the Mutual Information for the rule, which measures the amount of information gained about the consequent (plunge-dives) given the antecedent (diet_fish, webbed-feet, high_WSI). A higher MI value indicates a stronger association between the antecedent and consequent."
      ],
      "metadata": {
        "id": "stUKellUPdm4"
      }
    },
    {
      "cell_type": "markdown",
      "source": [
        "---"
      ],
      "metadata": {
        "id": "oXSFpbdOa8kv"
      }
    },
    {
      "cell_type": "markdown",
      "source": [
        "#### The shell script __runbirds.sh__ that we used is the combination of previous commands:\n",
        "\n",
        "```\n",
        "./namescodes/namescodes -n birdstrans.txt -tbirdtable.txt -L\n",
        "./namescodes/namescodes -n constraint.txt -tbirdtable.txt\n",
        "./kingfisher/kingfisher -i birdstrans.txt.codes -k152 -M-5 -q300 -o birdrules.txt -b constraint.txt.codes\n",
        "./namescodes/namescodes -c birdrules.txt -tbirdtable.txt\n",
        "```"
      ],
      "metadata": {
        "id": "0O6MxDo7zl7p"
      }
    },
    {
      "cell_type": "markdown",
      "metadata": {
        "id": "QA25pZNAeXNs"
      },
      "source": [
        "## **3. Results**"
      ]
    },
    {
      "cell_type": "markdown",
      "source": [
        "__(c) Report the most significant and interesting rules. The idea is not to\n",
        "list all rules, but group rules and describe the information they reveal\n",
        "(e.g., what things are associated to scolopacidae or plunge-divers). Tell\n",
        "also which features seem to be irrelevant (did not occur in any rules). Describe the most significant and interesting associations you discovered__"
      ],
      "metadata": {
        "id": "QVJM1EpGEqG2"
      }
    },
    {
      "cell_type": "markdown",
      "source": [
        "After tuning the results, here is the final version shell script that we haved used to uncover the patterns of bird species\n",
        "```\n",
        "./namescodes/namescodes -n birdstrans.txt -t birdtable.txt -L\n",
        "./namescodes/namescodes -n constraint.txt -t birdtable.txt\n",
        "./kingfisher/kingfisher -i birdstrans.txt.codes -k 140 -t1 -M -5 -q 50 -o birdrules.txt - b constraint.txt.codes\n",
        "./namescodes/namescodes -c birdrules.txt -t birdtable.txt\n",
        "```\n",
        "\n",
        "t = 3 means both positive and negative rules are considered.\n",
        "\n",
        "q = 50 as we only considers the top 50 most significant associations."
      ],
      "metadata": {
        "id": "l8Cqxucmb0z-"
      }
    },
    {
      "cell_type": "markdown",
      "source": [
        "#### 1. What things are associated to scolopacidae?\n",
        "\n",
        "To know the rules that are associated with scolopacidae, we can search all lines occurring in __birdrules.txt.names__ using the grep command:\n",
        "\n",
        "```\n",
        "$ grep -e 'scolopacidae' birdrules.txt.names > scolopacidae_rules.txt\n",
        "```\n",
        "\n",
        "From the output file scolopacidae_rules.txt, we can infer that the Scolopacidae bird group has the following common associations:\n",
        "\n",
        "- small BMI\n",
        "- diet of invertebrates\n",
        "- wading bird\n",
        "- long billed\n",
        "\n"
      ],
      "metadata": {
        "id": "jQLlQcj0Uhtn"
      }
    },
    {
      "cell_type": "markdown",
      "source": [
        "#### 2. What things are associated to plunge-divers?"
      ],
      "metadata": {
        "id": "TjycURYoaTxQ"
      }
    },
    {
      "cell_type": "markdown",
      "source": [
        "To know the rules that are associated with plunge-divers, we can search all lines occurring in __birdrules.txt.names__ like before\n",
        "\n",
        "```\n",
        "$ grep -e 'plunge-divers' birdrules.txt.names > plunge_divers_rules.txt\n",
        "```\n",
        "\n",
        "From the output file scolopacidae_rules.txt, we can infer that the Scolopacidae bird group has the following common associations:\n",
        "\n",
        "- webbed-feet\n",
        "- high WSI\n",
        "- white belly\n",
        "- diet of fish\n"
      ],
      "metadata": {
        "id": "QMMn3tf8c24W"
      }
    },
    {
      "cell_type": "markdown",
      "source": [
        "#### Tell also which features seem to be irrelevant (did not occur in any rules).\n",
        "\n"
      ],
      "metadata": {
        "id": "c-CUbiFOUgD_"
      }
    },
    {
      "cell_type": "markdown",
      "source": [
        "We use this shell scripts to find irrelevant rules:\n",
        "\n",
        "```\n",
        "# Extract feature names from birdtable.txt, ignoring the index numbers\n",
        "cut -d ' ' -f 2- birdtable.txt > feature_names.txt\n",
        "\n",
        "# Check each feature in feature_names.txt against birdrules.txt.names\n",
        "while IFS= read -r feature; do\n",
        "  if ! grep -q \"$feature\" birdrules.txt.names; then\n",
        "    echo \"$feature\"\n",
        "  fi\n",
        "done < feature_names.txt > irrelevant_features.txt\n",
        "```\n",
        "\n",
        "There are lots of irrelevant features and we cant list all. Some of them are:\n",
        "```\n",
        "diet_insects\n",
        "diet_plankton\n",
        "diet_worms\n",
        "habitat_nutrient-rich-lakes\n",
        "habitat_ponds\n",
        "habitat_sea-bays\n",
        "back_light-grey\n",
        "billcol_black\n",
        "legcol_red\n",
        "diet_garbage\n",
        "habitat_lakes\n",
        "```"
      ],
      "metadata": {
        "id": "0WgikIaUhJWw"
      }
    },
    {
      "cell_type": "markdown",
      "source": [
        "Unfortunately, due time restrictions, we cannot afford to uncover more interesting patterns. Given more time, we can definitely try to mine more associating patterns in the future"
      ],
      "metadata": {
        "id": "brfksz5Qb3yf"
      }
    },
    {
      "cell_type": "markdown",
      "metadata": {
        "id": "VXzuQCTPep80"
      },
      "source": [
        "## **Appendix**"
      ]
    },
    {
      "cell_type": "markdown",
      "metadata": {
        "id": "8npuyZx9NRhc"
      },
      "source": [
        "All the code for this exercise has been added with respect to each part for closest referencing. Therefore, we do not attach any more code here in the Appendix section"
      ]
    }
  ],
  "metadata": {
    "kernelspec": {
      "display_name": "Python 3",
      "language": "python",
      "name": "python3"
    },
    "language_info": {
      "codemirror_mode": {
        "name": "ipython",
        "version": 3
      },
      "file_extension": ".py",
      "mimetype": "text/x-python",
      "name": "python",
      "nbconvert_exporter": "python",
      "pygments_lexer": "ipython3",
      "version": "3.11.3"
    },
    "orig_nbformat": 4,
    "colab": {
      "provenance": []
    }
  },
  "nbformat": 4,
  "nbformat_minor": 0
}