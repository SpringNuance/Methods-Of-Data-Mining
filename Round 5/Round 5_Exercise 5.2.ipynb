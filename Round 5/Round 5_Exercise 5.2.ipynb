{
 "cells": [
  {
   "cell_type": "markdown",
   "metadata": {},
   "source": [
    "### 5.2 Sequential data of discrete events\n",
    "\n",
    "Learning goal: How to test significance of discoveries with randomization.\n",
    "\n",
    "Consider sequential data where discrete events of three types, A, B and C occur in time. That is, the data consists of tuples (D, t), where D is one of A, B and C and t is the occurrence time.\n",
    "\n",
    "An example sequence S could be:\n",
    "\n",
    "$$\\{(A, 105), (B, 110), (A, 120), (C, 122), (A, 130), (B, 135), (C, 185), (A, 195), (C, 220),$$\n",
    "$$(A, 260), (B, 270), (C, 295), (A, 420), (C, 440), (B, 445), (C, 522), (A, 530), (B, 555)\\}$$\n",
    "\n",
    "\n",
    "These events could be, e.g., different types of problems arising in a piece of\n",
    "machinery. Browsing the data you notice that it looks like many occurrences\n",
    "of A are followed fairly soon by an occurrence of B.\n",
    "\n",
    "Please be specific wrt. your assumptions about the sampling distribution\n",
    "you would use, e.g., are you keeping something constant or letting it vary\n",
    "(how and why). What assumptions are you making about the data?"
   ]
  },
  {
   "cell_type": "code",
   "execution_count": 2,
   "metadata": {},
   "outputs": [],
   "source": [
    "import pandas as pd\n",
    "import numpy as np\n",
    "import networkx as nx\n",
    "import matplotlib.pyplot as plt"
   ]
  },
  {
   "cell_type": "markdown",
   "metadata": {},
   "source": [
    "(a) How would you quantify this possible connection between occurrences of A and B? Explain what you would compute from the data and show some values with the given example sequence S."
   ]
  },
  {
   "cell_type": "markdown",
   "metadata": {},
   "source": [
    "(b) How would you use randomization to test whether the value you computed is in some sense interesting?"
   ]
  }
 ],
 "metadata": {
  "kernelspec": {
   "display_name": "Python 3",
   "language": "python",
   "name": "python3"
  },
  "language_info": {
   "codemirror_mode": {
    "name": "ipython",
    "version": 3
   },
   "file_extension": ".py",
   "mimetype": "text/x-python",
   "name": "python",
   "nbconvert_exporter": "python",
   "pygments_lexer": "ipython3",
   "version": "3.11.3"
  },
  "orig_nbformat": 4
 },
 "nbformat": 4,
 "nbformat_minor": 2
}
