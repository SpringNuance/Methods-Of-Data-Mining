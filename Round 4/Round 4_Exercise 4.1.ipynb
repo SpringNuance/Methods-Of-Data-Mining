{
 "cells": [
  {
   "cell_type": "markdown",
   "metadata": {},
   "source": [
    "### 4.1 PageRank and HITS\n",
    "\n",
    "Learning goal: The idea of PageRank and HITS algorithms.\n",
    "\n",
    "Figure 1 shows the linkage structure of web pages and Table 1 lists the\n",
    "keywords that occur in the pages. The task is to evaluate PageRank and\n",
    "hubs and authority values of pages given a query. In this task, you can use\n",
    "any of the existing PageRank and HITS (simulation) tools (you can find also\n",
    "online calculators). Note that different tools may use different initialization\n",
    "or scaling but the top results should be the same. If the tool allows you to\n",
    "adjust the teleportation probability, use 0.10 or 0.15.\n",
    "\n",
    "Figure 1: Linkage structure of web pages.\n",
    "\n",
    "![image.png](linkage.png)\n",
    "\n",
    "```\n",
    "A -> B\n",
    "B -> A\n",
    "C -> A\n",
    "C -> B\n",
    "C -> D\n",
    "C -> G\n",
    "D -> E\n",
    "E -> D\n",
    "E -> G\n",
    "E -> F\n",
    "F -> G\n",
    "H -> G\n",
    "H -> I\n",
    "I -> H\n",
    "H -> J\n",
    "I -> J\n",
    "J -> I\n",
    "```\n",
    "\n",
    "Table 1: Keywords that occur in pages A–J\n",
    "\n",
    "| id | keywords                                         |\n",
    "|----|--------------------------------------------------|\n",
    "| A  | authority, page, reputable, source               |\n",
    "| B  | hub, page, link, good, source                    |\n",
    "| C  | PageRank, HITS, ranking, algorithm               |\n",
    "| D  | reputable, page, link, PageRank                  |\n",
    "| E  | reputation, visit, frequency, random, surfer     |\n",
    "| F  | random, surfer, trap, dead-end                   |\n",
    "| G  | PageRank, teleportation, random, surfer, model   |\n",
    "| H  | teleportation, travel, planet                    |\n",
    "| I  | Star Trek, transporter, teleportation            |\n",
    "| J  | beam, Scotty, transporter                        |\n",
    "\n"
   ]
  },
  {
   "cell_type": "markdown",
   "metadata": {},
   "source": [
    "Two ranking algorithms\n",
    "1. HITS = Hyperlink-Induced Topic Search = \"Hubs and Authorities algorithm\"\n",
    "- query-dependent\n",
    "- There are two types of good pages: good authority pages are reputable sources on topics and good hub pages offer links to good sources.\n",
    "\n",
    "2. PageRank\n",
    "- query-independent\n",
    "- Highly reputabe pages are likely cited by other higly reputable pages."
   ]
  },
  {
   "cell_type": "code",
   "execution_count": 2,
   "metadata": {},
   "outputs": [],
   "source": [
    "import pandas as pd\n",
    "import numpy as np\n",
    "import networkx as nx\n",
    "import matplotlib.pyplot as plt"
   ]
  },
  {
   "cell_type": "markdown",
   "metadata": {},
   "source": [
    "(a) Evaluate PageRank values for all pages. What would be the most reputable sources containing query words (i) “PageRank” or (ii) “teleportation”?"
   ]
  },
  {
   "cell_type": "code",
   "execution_count": 3,
   "metadata": {},
   "outputs": [
    {
     "name": "stdout",
     "output_type": "stream",
     "text": [
      "Directed adjacency matrix:\n",
      "\n",
      "    A | B | C | D | E | F | G | H | I | J |\n",
      "    _______________________________________\n",
      "A | 0 | 1 | 0 | 0 | 0 | 0 | 0 | 0 | 0 | 0 | \n",
      "B | 1 | 0 | 0 | 0 | 0 | 0 | 0 | 0 | 0 | 0 | \n",
      "C | 1 | 1 | 0 | 1 | 0 | 0 | 1 | 0 | 0 | 0 | \n",
      "D | 0 | 0 | 0 | 0 | 1 | 0 | 0 | 0 | 0 | 0 | \n",
      "E | 0 | 0 | 0 | 1 | 0 | 1 | 1 | 0 | 0 | 0 | \n",
      "F | 0 | 0 | 0 | 0 | 0 | 0 | 1 | 0 | 0 | 0 | \n",
      "G | 0 | 0 | 0 | 0 | 0 | 0 | 0 | 0 | 0 | 0 | \n",
      "H | 0 | 0 | 0 | 0 | 0 | 0 | 1 | 0 | 1 | 1 | \n",
      "I | 0 | 0 | 0 | 0 | 0 | 0 | 0 | 1 | 0 | 1 | \n",
      "J | 0 | 0 | 0 | 0 | 0 | 0 | 0 | 0 | 1 | 0 | \n",
      "\n",
      "Vertical nodes name is source\n",
      "Horizontal nodes name is destination\n"
     ]
    }
   ],
   "source": [
    "# Creating the adjacency matrix for the directed graph\n",
    "directed_adjacency_matrix = np.zeros((10, 10), dtype=int)\n",
    "\n",
    "# The keywords dictionary: \n",
    "\n",
    "pageKeywords = {\n",
    "    \"A\": [\"authority\", \"page\", \"reputable\", \"source\"],\n",
    "    \"B\": [\"hub\", \"page\", \"link\", \"good\", \"source\"],\n",
    "    \"C\": [\"PageRank\", \"HITS\", \"ranking\", \"algorithm\"],\n",
    "    \"D\": [\"reputable\", \"page\", \"link\", \"PageRank\"],\n",
    "    \"E\": [\"reputation\", \"visit\", \"frequency\", \"random\", \"surfer\"],\n",
    "    \"F\": [\"random\", \"surfer\", \"trap\", \"dead-end\"],\n",
    "    \"G\": [\"PageRank\", \"teleportation\", \"random\", \"surfer\", \"model\"],\n",
    "    \"H\": [\"teleportation\", \"travel\", \"planet\"],\n",
    "    \"I\": [\"Star Trek\", \"transporter\", \"teleportation\"],\n",
    "    \"J\": [\"beam\", \"Scotty\", \"transporter\"]\n",
    "}\n",
    "\n",
    "page_indices = {\n",
    "    \"A\": 0, \"B\": 1, \"C\": 2, \"D\": 3, \"E\": 4,\n",
    "    \"F\": 5, \"G\": 6, \"H\": 7, \"I\": 8, \"J\": 9\n",
    "}\n",
    "\n",
    "inverse_page_indices = {v: k for k, v in page_indices.items()}\n",
    "\n",
    "directed_links = [\n",
    "    (\"A\", \"B\"), (\"B\", \"A\"), (\"C\", \"A\"), (\"C\", \"B\"), (\"C\", \"D\"), (\"C\", \"G\"),\n",
    "    (\"D\", \"E\"), (\"E\", \"D\"), (\"E\", \"G\"), (\"E\", \"F\"), (\"F\", \"G\"), (\"H\", \"G\"),\n",
    "    (\"H\", \"I\"), (\"I\", \"H\"), (\"H\", \"J\"), (\"I\", \"J\"), (\"J\", \"I\")\n",
    "]\n",
    "for src, dest in directed_links:\n",
    "    directed_adjacency_matrix[page_indices[src], page_indices[dest]] = 1\n",
    "\n",
    "# Showing the directed adjacency matrix\n",
    "print(\"Directed adjacency matrix:\\n\")\n",
    "print(\"    A | B | C | D | E | F | G | H | I | J |\")\n",
    "print(\"    _______________________________________\")\n",
    "for i in range(10):\n",
    "    print(inverse_page_indices[i], end=\" | \")\n",
    "    for j in directed_adjacency_matrix[i]:\n",
    "        print(j, end=\" | \")\n",
    "    print()\n",
    "# directed_adjacency_matrix\n",
    "\n",
    "print(\"\\nVertical nodes name is source\")\n",
    "print(\"Horizontal nodes name is destination\")"
   ]
  },
  {
   "cell_type": "code",
   "execution_count": 4,
   "metadata": {},
   "outputs": [
    {
     "name": "stdout",
     "output_type": "stream",
     "text": [
      "The PageRank values are:\n",
      "A: 0.1061\n",
      "B: 0.1058\n",
      "C: 0.0866\n",
      "D: 0.0950\n",
      "E: 0.1008\n",
      "F: 0.0916\n",
      "G: 0.1135\n",
      "H: 0.0947\n",
      "I: 0.1065\n",
      "J: 0.0993\n"
     ]
    }
   ],
   "source": [
    "def pagerank(directed_adj_matrix, damping_factor=0.15, max_iter=100, tol=1e-6):\n",
    "    # Number of pages\n",
    "    num_pages = directed_adj_matrix.shape[0]\n",
    "    \n",
    "    # Initialize PageRank values\n",
    "    pagerank_values = np.ones(num_pages) / num_pages\n",
    "    \n",
    "    # Calculate the out-degree of each page (number of outbound links)\n",
    "    out_degree = directed_adj_matrix.sum(axis=1)\n",
    "    \n",
    "    # Iteratively calculate PageRank values\n",
    "    for _ in range(max_iter):\n",
    "        # Store the old PageRank values\n",
    "        old_pagerank_values = pagerank_values.copy()\n",
    "        \n",
    "        # Calculate new PageRank values\n",
    "        for i in range(num_pages):\n",
    "            # Sum of PageRank values of pages linking to page i, divided by their out-degree\n",
    "            inbound_pagerank = sum(pagerank_values[j] / out_degree[j] for j in range(num_pages) if directed_adj_matrix[j, i] == 1)\n",
    "            \n",
    "            # Calculate new PageRank value\n",
    "            pagerank_values[i] = ((1 - damping_factor) / num_pages) + (damping_factor * inbound_pagerank)\n",
    "        \n",
    "        # Normalize PageRank values\n",
    "        pagerank_values /= pagerank_values.sum()\n",
    "        \n",
    "        # Check for convergence\n",
    "        if np.linalg.norm(pagerank_values - old_pagerank_values) < tol:\n",
    "            break\n",
    "    \n",
    "    return pagerank_values\n",
    "\n",
    "# Calculate PageRank values\n",
    "pagerank_values = pagerank(directed_adjacency_matrix)\n",
    "\n",
    "# Convert PageRank values to a dictionary\n",
    "pagerank_dict = {inverse_page_indices[i]: pagerank_values[i] for i in range(10)}\n",
    "\n",
    "print(\"The PageRank values are:\")\n",
    "for page, score in pagerank_dict.items():\n",
    "    print(f\"{page}: {score:.4f}\")"
   ]
  },
  {
   "cell_type": "markdown",
   "metadata": {},
   "source": [
    "To find the most reputable sources for the query words \"PageRank\" and \"teleportation\" according to PageRank, we can filter the pages that contain these words and then look up their PageRank values in the previously calculated PageRank dictionary. The page(s) with the highest PageRank value(s) will be considered the most reputable sources."
   ]
  },
  {
   "cell_type": "code",
   "execution_count": 83,
   "metadata": {},
   "outputs": [
    {
     "name": "stdout",
     "output_type": "stream",
     "text": [
      "\n",
      "The most reputable source for 'PageRank' is: Page G\n",
      "The most reputable source for 'teleportation' is: Page I\n"
     ]
    }
   ],
   "source": [
    "def get_most_reputable_sources(query, pageKeywords, pagerank_dict):\n",
    "    # Find pages that contain the query word\n",
    "    pages_with_query = [page for page, keywords in pageKeywords.items() if query.lower() in map(str.lower, keywords)]\n",
    "    \n",
    "    # Look up their PageRank values\n",
    "    pagerank_values = {page: pagerank_dict[page] for page in pages_with_query}\n",
    "    \n",
    "    # Identify the page(s) with the highest PageRank value(s)\n",
    "    max_pagerank = max(pagerank_values.values())\n",
    "    most_reputable_sources = [page for page, pr in pagerank_values.items() if pr == max_pagerank]\n",
    "    \n",
    "    return most_reputable_sources\n",
    "\n",
    "# Find the most reputable sources for \"PageRank\" and \"teleportation\"\n",
    "most_reputable_PageRank = get_most_reputable_sources(\"PageRank\", pageKeywords, pagerank_dict)\n",
    "most_reputable_teleportation = get_most_reputable_sources(\"teleportation\", pageKeywords, pagerank_dict)\n",
    "\n",
    "print(f\"\\nThe most reputable source for 'PageRank' is: Page {most_reputable_PageRank[0]}\")\n",
    "print(f\"The most reputable source for 'teleportation' is: Page {most_reputable_teleportation[0]}\")\n"
   ]
  },
  {
   "cell_type": "markdown",
   "metadata": {},
   "source": [
    "(b) Construct the HITS graph (base set and its edges) for query “PageRank”. Include pages in the root set, all pages pointed by the root pages and all pages pointing to the root pages. Then calculate the hubs and authority values. Which page is the best authority on the topic? What about the best hub?"
   ]
  },
  {
   "cell_type": "code",
   "execution_count": 33,
   "metadata": {},
   "outputs": [],
   "source": [
    "# The keywords dictionary: \n",
    "\n",
    "pageKeywords = {\n",
    "    \"A\": [\"authority\", \"page\", \"reputable\", \"source\"],\n",
    "    \"B\": [\"hub\", \"page\", \"link\", \"good\", \"source\"],\n",
    "    \"C\": [\"PageRank\", \"HITS\", \"ranking\", \"algorithm\"],\n",
    "    \"D\": [\"reputable\", \"page\", \"link\", \"PageRank\"],\n",
    "    \"E\": [\"reputation\", \"visit\", \"frequency\", \"random\", \"surfer\"],\n",
    "    \"F\": [\"random\", \"surfer\", \"trap\", \"dead-end\"],\n",
    "    \"G\": [\"PageRank\", \"teleportation\", \"random\", \"surfer\", \"model\"],\n",
    "    \"H\": [\"teleportation\", \"travel\", \"planet\"],\n",
    "    \"I\": [\"Star Trek\", \"transporter\", \"teleportation\"],\n",
    "    \"J\": [\"beam\", \"Scotty\", \"transporter\"]\n",
    "}\n",
    "\n",
    "page_indices = {\n",
    "    \"A\": 0, \"B\": 1, \"C\": 2, \"D\": 3, \"E\": 4,\n",
    "    \"F\": 5, \"G\": 6, \"H\": 7, \"I\": 8, \"J\": 9\n",
    "}\n",
    "\n",
    "inverse_page_indices = {v: k for k, v in page_indices.items()}\n",
    "\n",
    "directed_links = [\n",
    "    (\"A\", \"B\"), (\"B\", \"A\"), (\"C\", \"A\"), (\"C\", \"B\"), (\"C\", \"D\"), (\"C\", \"G\"),\n",
    "    (\"D\", \"E\"), (\"E\", \"D\"), (\"E\", \"G\"), (\"E\", \"F\"), (\"F\", \"G\"), (\"H\", \"G\"),\n",
    "    (\"H\", \"I\"), (\"I\", \"H\"), (\"H\", \"J\"), (\"I\", \"J\"), (\"J\", \"I\")\n",
    "]\n",
    "for src, dest in directed_links:\n",
    "    directed_adjacency_matrix[page_indices[src], page_indices[dest]] = 1"
   ]
  },
  {
   "cell_type": "code",
   "execution_count": 34,
   "metadata": {},
   "outputs": [
    {
     "name": "stdout",
     "output_type": "stream",
     "text": [
      "Root set for query 'PageRank':\n",
      "['C', 'D', 'G']\n",
      "\n",
      "Base set for query 'PageRank':\n",
      "['A', 'D', 'C', 'H', 'E', 'B', 'F', 'G']\n",
      "\n",
      "In-links set for query 'PageRank':\n",
      "['E', 'H', 'F', 'C']\n",
      "\n",
      "Out-links set for query 'PageRank':\n",
      "['A', 'D', 'E', 'B', 'G']\n"
     ]
    }
   ],
   "source": [
    "# HITS implementation\n",
    "\n",
    "# This includes all the pages that contain the query term. In this case, pages that contain the word \"PageRank.\"\n",
    "\n",
    "def root_set_func(query, pageKeywords):\n",
    "    # Create the root set\n",
    "    root_set = []\n",
    "    for pageName in pageKeywords:\n",
    "        if query in pageKeywords[pageName]:\n",
    "            root_set.append(pageName)\n",
    "    return root_set\n",
    "\n",
    "root_set = root_set_func(\"PageRank\", pageKeywords)\n",
    "print(\"Root set for query 'PageRank':\")\n",
    "print(root_set)\n",
    "\n",
    "# This includes all pages in the root set, plus any pages that point to a page in the root set (in-links), \n",
    "# and any pages that are pointed to by a page in the root set (out-links).\n",
    "def base_set_func(root_set, directed_adj_graph, page_indices):\n",
    "    # Create the base set\n",
    "    base_set = []\n",
    "    inlinks_set = []\n",
    "    outlinks_set = []\n",
    "    # in-links pages\n",
    "    for page in root_set:\n",
    "        for i in range(len(directed_adj_graph)):\n",
    "            if directed_adj_graph[i][page_indices[page]] == 1:\n",
    "                inlinks_set.append(inverse_page_indices[i])\n",
    "    # out-links pages\n",
    "    for page in root_set:\n",
    "        for i in range(len(directed_adj_graph)):\n",
    "            if directed_adj_graph[page_indices[page]][i] == 1:\n",
    "                outlinks_set.append(inverse_page_indices[i])\n",
    "    \n",
    "    # Combine the root set, in-links set, and out-links set\n",
    "    base_set = root_set + inlinks_set + outlinks_set\n",
    "\n",
    "    # Remove duplicates\n",
    "    inlinks_set = list(set(inlinks_set))\n",
    "    outlinks_set = list(set(outlinks_set))\n",
    "    base_set = list(set(base_set))\n",
    "\n",
    "    return base_set, inlinks_set, outlinks_set\n",
    "\n",
    "base_set, inlinks_set, outlinks_set = base_set_func(root_set, directed_adjacency_matrix, page_indices)\n",
    "\n",
    "print(\"\\nBase set for query 'PageRank':\")\n",
    "print(base_set)\n",
    "print(\"\\nIn-links set for query 'PageRank':\")\n",
    "print(inlinks_set)\n",
    "print(\"\\nOut-links set for query 'PageRank':\")\n",
    "print(outlinks_set)"
   ]
  },
  {
   "cell_type": "code",
   "execution_count": 40,
   "metadata": {},
   "outputs": [],
   "source": [
    "def construct_HITS_graph(base_set, directed_adj_matrix, page_indices):\n",
    "    # Number of pages in the base set\n",
    "    num_pages_base_set = len(base_set)\n",
    "    \n",
    "    # Initialize the adjacency matrix for the HITS subgraph\n",
    "    hits_adj_matrix = np.zeros((num_pages_base_set, num_pages_base_set), dtype=int)\n",
    "    \n",
    "    # Populate the adjacency matrix\n",
    "    for src_page in base_set:\n",
    "        for dest_page in base_set:\n",
    "            # If there is a directed link from src_page to dest_page in the original graph\n",
    "            if directed_adj_matrix[page_indices[src_page], page_indices[dest_page]] == 1:\n",
    "                # Set the corresponding entry in the HITS adjacency matrix to 1\n",
    "                hits_adj_matrix[base_set.index(src_page), base_set.index(dest_page)] = 1\n",
    "    \n",
    "    return hits_adj_matrix\n",
    "\n",
    "hits_adj_matrix = construct_HITS_graph(base_set, directed_adjacency_matrix, page_indices)\n"
   ]
  },
  {
   "cell_type": "code",
   "execution_count": 71,
   "metadata": {},
   "outputs": [
    {
     "data": {
      "image/png": "[encoded data removed]",
      "text/plain": [
       "<Figure size 400x400 with 1 Axes>"
      ]
     },
     "metadata": {},
     "output_type": "display_data"
    }
   ],
   "source": [
    "def draw_HITS_graph(hits_adj_matrix, base_set):\n",
    "    # Create a directed graph\n",
    "    G = nx.DiGraph()\n",
    "    \n",
    "    # Add nodes\n",
    "    for page in base_set:\n",
    "        G.add_node(page)\n",
    "        \n",
    "    # Add edges\n",
    "    for i, src_page in enumerate(base_set):\n",
    "        for j, dest_page in enumerate(base_set):\n",
    "            if hits_adj_matrix[i, j] == 1:\n",
    "                G.add_edge(src_page, dest_page)\n",
    "\n",
    "    plt.figure(figsize=(4, 4))  # You can adjust the size here\n",
    "    # Draw the graph\n",
    "    pos = nx.spring_layout(G)\n",
    "    nx.draw(G, pos, with_labels=True, arrows=True)\n",
    "    plt.title(\"HITS subgraph\")\n",
    "    plt.show()\n",
    "\n",
    "# Now you can call this function with the HITS adjacency matrix and the base set\n",
    "draw_HITS_graph(hits_adj_matrix, base_set)"
   ]
  },
  {
   "cell_type": "code",
   "execution_count": 68,
   "metadata": {},
   "outputs": [
    {
     "name": "stdout",
     "output_type": "stream",
     "text": [
      "Hub scores:\n",
      "\n",
      "{'A': 0.12783547930294198, 'D': 4.415502055914501e-10, 'C': 0.7201506968184191, 'H': 0.2734651576885417, 'E': 0.5469303149355331, 'B': 0.12783547930294198, 'F': 0.2734651576885417, 'G': 0.0}\n",
      "\n",
      "Authority scores:\n",
      "\n",
      "{'A': 0.3292458612178255, 'D': 0.49196639628304295, 'C': 0.0, 'H': 0.0, 'E': 1.137231842862259e-09, 'B': 0.3292458612178255, 'F': 0.2123550620617508, 'G': 0.7043214594820256}\n",
      "\n",
      "Nodes with highest authority score:\n",
      "\n",
      "['G']\n"
     ]
    }
   ],
   "source": [
    "def hits_hub_authority_scores(hits_adj_matrix, base_set, max_iter=100, tol=1e-6):\n",
    "    # Number of pages in the base set\n",
    "    num_pages = len(base_set)\n",
    "    \n",
    "    # Initialize hub and authority scores\n",
    "    hubs = np.ones(num_pages)\n",
    "    authorities = np.ones(num_pages)\n",
    "    \n",
    "    # Iteratively calculate hub and authority scores\n",
    "    for _ in range(max_iter):\n",
    "        # Update authority scores\n",
    "        new_authorities = np.dot(hits_adj_matrix.T, hubs)\n",
    "        \n",
    "        # Update hub scores\n",
    "        new_hubs = np.dot(hits_adj_matrix, new_authorities)\n",
    "        \n",
    "        # Normalize scores\n",
    "        new_hubs /= np.linalg.norm(new_hubs, 2)\n",
    "        new_authorities /= np.linalg.norm(new_authorities, 2)\n",
    "        \n",
    "        # Check for convergence\n",
    "        if np.linalg.norm(new_hubs - hubs) < tol and np.linalg.norm(new_authorities - authorities) < tol:\n",
    "            break\n",
    "        \n",
    "        hubs, authorities = new_hubs, new_authorities\n",
    "    \n",
    "    # Convert hub and authority scores to dictionaries\n",
    "    hub_scores = {base_set[i]: hubs[i] for i in range(num_pages)}\n",
    "    authority_scores = {base_set[i]: authorities[i] for i in range(num_pages)}\n",
    "    \n",
    "    return hub_scores, authority_scores\n",
    "\n",
    "hub_scores, authority_scores = hits_hub_authority_scores(hits_adj_matrix, base_set)\n",
    "\n",
    "def nodes_highest_authority(authority_scores):\n",
    "    max_authority = max(authority_scores.values())  # Find the maximum authority score\n",
    "    nodes_with_highest_authority = [node for node, authority in authority_scores.items() if authority == max_authority]  # Find all nodes with the maximum authority score\n",
    "    return nodes_with_highest_authority\n",
    "\n",
    "# Assuming authority_scores is a dictionary with pages as keys and authority scores as values\n",
    "nodes_with_highest_authority = nodes_highest_authority(authority_scores)\n",
    "nodes_with_highest_authority\n",
    "\n",
    "\n",
    "print(\"Hub scores:\\n\")\n",
    "print(hub_scores)\n",
    "\n",
    "print(\"\\nAuthority scores:\\n\")\n",
    "print(authority_scores)\n",
    "\n",
    "print(\"\\nNodes with highest authority score:\\n\")\n",
    "print(nodes_with_highest_authority)\n"
   ]
  },
  {
   "cell_type": "code",
   "execution_count": 76,
   "metadata": {},
   "outputs": [
    {
     "name": "stdout",
     "output_type": "stream",
     "text": [
      "Page with highest HITS authority score for query 'PageRank':\n",
      "G: ['PageRank', 'teleportation', 'random', 'surfer', 'model']\n"
     ]
    }
   ],
   "source": [
    "def HITS_algorithm(query, pageKeywords, directed_adj_graph, page_indices):\n",
    "    # Create the root set\n",
    "    root_set = root_set_func(query, pageKeywords)\n",
    "    \n",
    "    # Create the base set\n",
    "    base_set, inlinks_set, outlinks_set = base_set_func(root_set, directed_adj_graph, page_indices)\n",
    "    \n",
    "    # Construct the HITS subgraph\n",
    "    hits_adj_matrix = construct_HITS_graph(base_set, directed_adj_graph, page_indices)\n",
    "    \n",
    "    # Calculate hub and authority scores\n",
    "    hub_scores, authority_scores = hits_hub_authority_scores(hits_adj_matrix, base_set)\n",
    "    \n",
    "    # Find the nodes with the highest authority score\n",
    "    nodes_with_highest_authority = nodes_highest_authority(authority_scores)\n",
    "    \n",
    "    return nodes_with_highest_authority\n",
    "\n",
    "# Call the HITS algorithm function with the query \"PageRank\"\n",
    "nodes_with_highest_authority = HITS_algorithm(\"PageRank\", pageKeywords, directed_adjacency_matrix, page_indices)\n",
    "\n",
    "print(\"Page with highest HITS authority score for query 'PageRank':\")\n",
    "print(f\"{nodes_with_highest_authority[0]}: {pageKeywords[nodes_with_highest_authority[0]]}\")"
   ]
  },
  {
   "cell_type": "markdown",
   "metadata": {},
   "source": [
    "(c) Repeat (b) for query “teleportation”."
   ]
  },
  {
   "cell_type": "code",
   "execution_count": 77,
   "metadata": {},
   "outputs": [
    {
     "name": "stdout",
     "output_type": "stream",
     "text": [
      "Page with highest HITS authority score for query 'teleportation':\n",
      "G: ['PageRank', 'teleportation', 'random', 'surfer', 'model']\n"
     ]
    }
   ],
   "source": [
    "# Call the HITS algorithm function with the query \"PageRank\"\n",
    "nodes_with_highest_authority = HITS_algorithm(\"teleportation\", pageKeywords, directed_adjacency_matrix, page_indices)\n",
    "\n",
    "print(\"Page with highest HITS authority score for query 'teleportation':\")\n",
    "print(f\"{nodes_with_highest_authority[0]}: {pageKeywords[nodes_with_highest_authority[0]]}\")"
   ]
  },
  {
   "cell_type": "markdown",
   "metadata": {},
   "source": [
    "(d) Compare the results with PageRank and HITS. Do they agree on the most reputable sources?"
   ]
  },
  {
   "cell_type": "markdown",
   "metadata": {},
   "source": [
    "No, PageRank and HITS do not return the same results for the query \"teleportation\". \n",
    "\n",
    "The page with the highest score is Page I according to PageRank, while the page with the highest HITS authority score is Page G."
   ]
  }
 ],
 "metadata": {
  "kernelspec": {
   "display_name": "Python 3",
   "language": "python",
   "name": "python3"
  },
  "language_info": {
   "codemirror_mode": {
    "name": "ipython",
    "version": 3
   },
   "file_extension": ".py",
   "mimetype": "text/x-python",
   "name": "python",
   "nbconvert_exporter": "python",
   "pygments_lexer": "ipython3",
   "version": "3.11.3"
  },
  "orig_nbformat": 4
 },
 "nbformat": 4,
 "nbformat_minor": 2
}
