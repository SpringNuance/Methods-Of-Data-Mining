{
 "cells": [
  {
   "cell_type": "code",
   "execution_count": 1,
   "metadata": {},
   "outputs": [],
   "source": [
    "import pandas as pd\n",
    "import numpy as np\n",
    "import networkx as nx\n",
    "import matplotlib.pyplot as plt"
   ]
  },
  {
   "cell_type": "markdown",
   "metadata": {},
   "source": [
    "Learning goal: To study distance functions and metrics for set form data. Consider a social network where each user is associated with a set of labels that best describe a set of properties of the user. We define the profile of the user to be the set of associated labels, i.e., given a set $P = {p_1,...,p_n}$ of user profiles and a universe of labels $L = {l_1,...,l_m}$, each profile pi ∈ P is a set of labels $L_i \\subseteq L$. The task is to design functions to measure the distance between two labels and similarity between two user profiles."
   ]
  },
  {
   "cell_type": "markdown",
   "metadata": {},
   "source": [
    "(a) Propose a distance measure between labels, more precisely, given any\n",
    "two labels $l_1, l_2 \\subset L$, present a distance function $d$ such that $d(l_1, l_2)$\n",
    "returns a distance measure between labels $l_1$ and $l_2$. The distance function should be (i) intuitive and (ii) satisfy the metric properties(see next parts)."
   ]
  },
  {
   "cell_type": "markdown",
   "metadata": {},
   "source": [
    "(b) Discuss the intuition, strengths, and limitations of your measure."
   ]
  }
 ],
 "metadata": {
  "kernelspec": {
   "display_name": "Python 3",
   "language": "python",
   "name": "python3"
  },
  "language_info": {
   "codemirror_mode": {
    "name": "ipython",
    "version": 3
   },
   "file_extension": ".py",
   "mimetype": "text/x-python",
   "name": "python",
   "nbconvert_exporter": "python",
   "pygments_lexer": "ipython3",
   "version": "3.11.3"
  },
  "orig_nbformat": 4
 },
 "nbformat": 4,
 "nbformat_minor": 2
}
