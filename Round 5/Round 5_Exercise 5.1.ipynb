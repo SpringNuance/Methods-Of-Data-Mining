{
 "cells": [
  {
   "cell_type": "markdown",
   "metadata": {},
   "source": [
    "### 5.1 PageRank and HITS\n",
    "\n",
    "Learning goal: Basic analysis of social networks (centrality measures, communities and their interpretation)\n",
    "\n",
    "In this task, you should experiment with the Gephi tool https://gephi.org/ and analyze a social network among school children. The network\n",
    "describes interaction among class 5 primary school pupils during one day.\n",
    "The data is presented as two spreadsheets, nodesclass5.csv (nodes and\n",
    "their attributes) and edgesclass5.csv (edges and their weights). Each actor\n",
    "has two attributes: school class (5A or 5B) and gender. The edge weights\n",
    "weight reflect the strength of interaction (total duration).\n",
    "\n",
    "Install Gephi and start it. Then import the data: From the file menu,\n",
    "choose import spreadsheet and choose nodesclass5.csv data. The edges\n",
    "are loaded similarly, but in the end tick append to existing workspace.\n",
    "Now you should have under Table both Nodes and Edges. You can find\n",
    "instructions how to use Gephi on https://gephi.org/users/quick-start/\n",
    "and https://github.com/gephi/gephi/wiki/. The functions are available\n",
    "under statistics and data table shows values of nodes for all calculated\n",
    "measures. After running a function, you can also visualize results under\n",
    "appearance → ranking.\n"
   ]
  },
  {
   "cell_type": "code",
   "execution_count": 2,
   "metadata": {},
   "outputs": [],
   "source": [
    "import pandas as pd\n",
    "import numpy as np\n",
    "import networkx as nx\n",
    "import matplotlib.pyplot as plt"
   ]
  },
  {
   "cell_type": "markdown",
   "metadata": {},
   "source": [
    "(a) Identify the most central and influential nodes with the following measures. Report at least two nodes with each measure (more if many nodes with the same value) and explain what the high value means.\n",
    "\n",
    "- (i) Node degree (select network overview – average degree)\n",
    "- (ii) Weighted degree (network overview – average weighted degree)\n",
    "- (iii) Closeness centrality (network overview – network diameter)\n",
    "- (iv) Betweenness centrality (already calculated in iii)\n",
    "- (v) Why the top-two nodes with highest weighted degree are not\n",
    "among top degree nodes? (Hint: look at their edge weights.)\n",
    "- (vi) Which are the most critical nodes for the information flow?"
   ]
  },
  {
   "cell_type": "markdown",
   "metadata": {},
   "source": [
    "(b) Identify dense subgraphs (communities) with the Modularity function (select network overview – modularity). What kind of communities do you find? Try to explain the communities with background variables\n",
    "(class and gender)!"
   ]
  },
  {
   "cell_type": "markdown",
   "metadata": {},
   "source": [
    "(c) Make some small experiment of your own choice with gephi and report the results! You can e.g., visualize some aspects of the network, calculate more measures or test Newman-Girvan community detection (first install the plugin: under tools → plugins choose Newman-Girvan clustering)."
   ]
  }
 ],
 "metadata": {
  "kernelspec": {
   "display_name": "Python 3",
   "language": "python",
   "name": "python3"
  },
  "language_info": {
   "codemirror_mode": {
    "name": "ipython",
    "version": 3
   },
   "file_extension": ".py",
   "mimetype": "text/x-python",
   "name": "python",
   "nbconvert_exporter": "python",
   "pygments_lexer": "ipython3",
   "version": "3.11.3"
  },
  "orig_nbformat": 4
 },
 "nbformat": 4,
 "nbformat_minor": 2
}
