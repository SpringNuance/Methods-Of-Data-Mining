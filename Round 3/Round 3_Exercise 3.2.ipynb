{
 "cells": [
  {
   "cell_type": "markdown",
   "metadata": {},
   "source": [
    "### 3.2 Alzheimer disease association rules: further evaluation\n",
    "\n",
    "Learning goal: Conditional evaluation and interpretation of statistical association rules. \n",
    "\n",
    "In this task, the same association rules (Table 1) are evaluated further.\n",
    "You can now evaluate only those rules that remained significant after task 1."
   ]
  },
  {
   "cell_type": "code",
   "execution_count": 6,
   "metadata": {},
   "outputs": [],
   "source": [
    "import pandas as pd\n",
    "import numpy as np\n",
    "import networkx as nx\n",
    "import matplotlib.pyplot as plt"
   ]
  },
  {
   "cell_type": "markdown",
   "metadata": {},
   "source": [
    "(a) Evaluate overfitting among remaining rules using value-based interpretation and conditional mutual information $MI_{C}$: Rule $\\mathbf{X} \\rightarrow C=c$ is pruned out if there exists some $\\mathbf{Y} \\subsetneq \\mathbf{X}$, such that for $\\mathbf{X} → C=c$ either $P (C=c|\\mathbf{Y}) ≥ P (C=c|\\mathbf{X})$ (no improvement) or the improvement is not sufficient, $n \\cdot MI_{C} < 0.5$ (i.e., $MI_{C} < 0.0005$)."
   ]
  },
  {
   "cell_type": "markdown",
   "metadata": {},
   "source": [
    "The formula of $P(C=c|X)$ is as follows:\n",
    "\n",
    "$$P(C = c | X) = \\frac{P(C = c, X)}{P(X)}$$"
   ]
  },
  {
   "cell_type": "markdown",
   "metadata": {},
   "source": [
    "Conditional mutual information for evaluating rule $XY \\rightarrow C=c$ given $X$\n",
    "in the value-based interpretation is"
   ]
  },
  {
   "cell_type": "code",
   "execution_count": 11,
   "metadata": {},
   "outputs": [],
   "source": [
    "# The remaining rules from Task 3.1\n",
    "\n",
    "rules_data = [\n",
    "    (\"smoking\", \"AD\", 300, 125),\n",
    "    (\"higheducation\", \"not AD\", 500, 400),\n",
    "    (\"female, stress\", \"AD\", 260, 100),\n",
    "    (\"smoking, tea\", \"AD\", 240, 100),\n",
    "    (\"smoking, higheducation\", \"AD\", 80, 32),\n",
    "    (\"stress, smoking\", \"AD\", 200, 100),\n",
    "    (\"female, higheducation\", \"not AD\", 251, 203)\n",
    "]\n",
    "\n",
    "# List of subsets of the rules\n",
    "\n",
    "rules_subset_data = [\n",
    "    {\n",
    "        \"Y\": (\"smoking\", \"AD\", 300, 125),\n",
    "        \"X\": (\"smoking, tea\", \"AD\", 240, 100),\n",
    "    },\n",
    "    {\n",
    "        \"Y\": (\"smoking\", \"AD\", 300, 125),\n",
    "        \"X\": (\"smoking, higheducation\", \"AD\", 80, 32),\n",
    "    },\n",
    "    {\n",
    "        \"Y\": (\"smoking\", \"AD\", 300, 125),\n",
    "        \"X\": (\"stress, smoking\", \"AD\", 200, 100),\n",
    "    },\n",
    "    {\n",
    "        \"Y\": (\"higheducation\", \"not AD\", 500, 400),\n",
    "        \"X\": (\"female, higheducation\", \"not AD\", 251, 203),\n",
    "    }\n",
    "]"
   ]
  },
  {
   "cell_type": "code",
   "execution_count": null,
   "metadata": {},
   "outputs": [],
   "source": [
    "n = 1000\n",
    "P_AD = 0.3\n",
    "P_negAD = 0.7\n",
    "\n",
    "def value_based_interpretation(P_X, P_XC, P_Y, P_YC):\n",
    "    P_CgivenY = P_XC/P_Y\n",
    "    P_CgivenX = P_YC/P_X\n",
    "    return P_CgivenY >= P_CgivenX\n",
    "    "
   ]
  },
  {
   "cell_type": "code",
   "execution_count": 8,
   "metadata": {},
   "outputs": [
    {
     "name": "stdout",
     "output_type": "stream",
     "text": [
      "('smoking, tea', 'AD', 240, 100)\n",
      "('smoking, higheducation', 'AD', 80, 32)\n"
     ]
    }
   ],
   "source": [
    "n = 1000\n",
    "P_AD = 0.3\n",
    "P_negAD = 0.7\n",
    "\n",
    "def conditional_MI(P_X, P_C, P_XC, P_XQ):\n",
    "\n",
    "    P_X = X[2] / n\n",
    "    P_Y = Y[2] / n\n",
    "    P_C = C / n\n",
    "    P_XC = X[3] / n\n",
    "    P_YC = Y[3] / n\n",
    "    \n",
    "    # Calculate conditional mutual information\n",
    "    MI_C = P_XC * np.log2(P_XC / (P_X * P_C)) + (P_X - P_XC) * np.log2((P_X - P_XC) / (P_X * (1 - P_C))) + \\\n",
    "           P_YC * np.log2(P_YC / (P_Y * P_C)) + (P_Y - P_YC) * np.log2((P_Y - P_YC) / (P_Y * (1 - P_C)))\n",
    "    \n",
    "    return MI_C\n",
    "\n",
    "n = 1000\n",
    "C = 700  # Fr(C) absolute number of people\n",
    "\n",
    "# Iterate over each rule and check for overfitting\n",
    "pruned_rules = []\n",
    "for rules_subset in rules_subset_data:\n",
    "    rule_X = 123\n",
    "    rule_Y = 123\n",
    "    for subset in rules_data:\n",
    "        Y = subset\n",
    "        if set(Y[0].split(\", \")).issubset(set(X[0].split(\", \"))) and Y[0] != X[0]:\n",
    "            if (Y[3] / Y[2] >= X[3] / X[2]) or (n * conditional_MI(X, Y, C, n) < 0.5):\n",
    "                pruned_rules.append(X)\n",
    "                break\n",
    "\n",
    "# Print the pruned rules\n",
    "for rule in pruned_rules:\n",
    "    print(rule)\n"
   ]
  },
  {
   "cell_type": "markdown",
   "metadata": {},
   "source": [
    "(b) What are your conclusions based on the remaining association rules?\n",
    "What would you recommend to do if one would like to avoid Alzheimer’s\n",
    "disease?"
   ]
  },
  {
   "cell_type": "markdown",
   "metadata": {},
   "source": [
    "My advice: If you want to avoid Alzheimer's disease, you should avoid smoking\n",
    "\n",
    "A recent review of 37 research studies found that compared to never smokers, current smokers were 30% more likely to develop dementia in general and 40% more likely to develop Alzheimer's disease. Analyses of earlier studies suggested the risk may be even higher than that. \n",
    "\n",
    "Ref: https://www.alzheimersresearchuk.org/blog/all-you-need-to-know-about-smoking-and-dementia/#:~:text=Smoking%20and%20dementia%20risk&text=A%20recent%20review%20of%2037,be%20even%20higher%20than%20that."
   ]
  },
  {
   "cell_type": "markdown",
   "metadata": {},
   "source": [
    "(c) Give example rules (among all 12 rules) that demonstrate the following\n",
    "things. Explain your choices briefly (why they demonstrate something).\n",
    "One example suffices for each part.\n",
    "\n",
    "(i) An association rule may have high precision and lift but still lack\n",
    "validity (unlikely hold in future data).\n",
    "\n",
    "(ii) Statistical dependence is not a monotonic property. i.e., a rule\n",
    "can express strong dependence, even if more general rules express\n",
    "independence or opposite dependence (positive instead of negative\n",
    "or negative instead of positive).\n",
    "\n",
    "(iii) Overfitted rules can lead to wrong conclusions."
   ]
  },
  {
   "cell_type": "code",
   "execution_count": 9,
   "metadata": {},
   "outputs": [
    {
     "name": "stdout",
     "output_type": "stream",
     "text": [
      "High precision and lift but lack validity: []\n",
      "Non-monotonic dependence: []\n",
      "Potentially overfitted rules: [('turmeric', 'not AD', 2, 2)]\n"
     ]
    }
   ],
   "source": [
    "rules_data = [\n",
    "    (\"smoking\", \"AD\", 300, 125),\n",
    "    (\"stress\", \"AD\", 500, 150),\n",
    "    (\"higheducation\", \"not AD\", 500, 400),\n",
    "    (\"tea\", \"AD\", 342, 240),\n",
    "    (\"turmeric\", \"not AD\", 2, 2),\n",
    "    (\"female\", \"not AD\", 500, 352),\n",
    "    (\"female, stress\", \"AD\", 260, 100),\n",
    "    (\"berries, apples\", \"AD\", 120, 32),\n",
    "    (\"smoking, tea\", \"AD\", 240, 100),\n",
    "    (\"smoking, higheducation\", \"AD\", 80, 32),\n",
    "    (\"stress, smoking\", \"AD\", 200, 100),\n",
    "    (\"female, higheducation\", \"not AD\", 251, 203)\n",
    "]\n",
    "\n",
    "# (i) Find rules with high precision and lift but lack validity\n",
    "# For simplicity, we'll consider rules with precision > 0.8 and lift > 1.5 as high\n",
    "high_precision_lift_rules = [rule for rule in rules_data if rule[3] / rule[2] > 0.8 and (rule[3] / rule[2]) / (C / n) > 1.5]\n",
    "\n",
    "# (ii) Find rules where more specific rules have opposite dependence\n",
    "# We'll look for rules where the more general rule has a lift close to 1 (independence) but the specific rule has a lift far from 1\n",
    "non_monotonic_rules = []\n",
    "for rule1 in rules_data:\n",
    "    for rule2 in rules_data:\n",
    "        if set(rule2[0].split(\", \")).issubset(set(rule1[0].split(\", \"))) and rule1[0] != rule2[0]:\n",
    "            lift1 = (rule1[3] / rule1[2]) / (C / n)\n",
    "            lift2 = (rule2[3] / rule2[2]) / (C / n)\n",
    "            if abs(lift1 - 1) < 0.1 and abs(lift2 - 1) > 0.5:\n",
    "                non_monotonic_rules.append((rule1, rule2))\n",
    "\n",
    "# (iii) Find overfitted rules\n",
    "# For simplicity, we'll consider rules derived from itemsets with frequency < 5 as potentially overfitted\n",
    "overfitted_rules = [rule for rule in rules_data if rule[2] < 5]\n",
    "\n",
    "# Print the rules\n",
    "print(\"High precision and lift but lack validity:\", high_precision_lift_rules)\n",
    "print(\"Non-monotonic dependence:\", non_monotonic_rules)\n",
    "print(\"Potentially overfitted rules:\", overfitted_rules)\n"
   ]
  }
 ],
 "metadata": {
  "kernelspec": {
   "display_name": "Python 3",
   "language": "python",
   "name": "python3"
  },
  "language_info": {
   "codemirror_mode": {
    "name": "ipython",
    "version": 3
   },
   "file_extension": ".py",
   "mimetype": "text/x-python",
   "name": "python",
   "nbconvert_exporter": "python",
   "pygments_lexer": "ipython3",
   "version": "3.11.3"
  },
  "orig_nbformat": 4
 },
 "nbformat": 4,
 "nbformat_minor": 2
}
