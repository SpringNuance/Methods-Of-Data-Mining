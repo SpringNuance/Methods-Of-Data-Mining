{
 "cells": [
  {
   "cell_type": "code",
   "execution_count": 1,
   "metadata": {},
   "outputs": [],
   "source": [
    "import pandas as pd\n",
    "import numpy as np\n",
    "import networkx as nx\n",
    "import matplotlib.pyplot as plt"
   ]
  },
  {
   "cell_type": "markdown",
   "metadata": {},
   "source": [
    "Learning goal: To consider effective implementations of nearest neighbor search. \n",
    "\n",
    "Consider the nearest neighbor search problem: Given a dataset of n objects $X = {x_1,...,x_n}$ and a query object $q$, we want to find the object $x∗ \\in X$ that minimizes the distance $d(q, x)$, that is,\n",
    "\n",
    "$$d(q, x∗) \\le d(q, x) \\quad \\forall x \\in X. \\quad (1)$$\n",
    "\n",
    "Assume that computing the distance function d is very expensive. Assume now that we are able to define another distance function $d_{LB}$, which is a lower bound of distance $d$. This means that for all pairs of objects x and y it should be \n",
    "\n",
    "$$d_{LB}(x, y) \\le d(x, y) \\quad (2) $$\n",
    "\n",
    "Furthermore, assume that computing $d_{LB}$ is significantly more efficient than computing d."
   ]
  },
  {
   "cell_type": "markdown",
   "metadata": {},
   "source": [
    "(a) Write pseudocode of an algorithm for the nearest neighbor search using distance d."
   ]
  },
  {
   "cell_type": "markdown",
   "metadata": {},
   "source": [
    "```\n",
    "def d(x, y):\n",
    "    # expensive distance function\n",
    "    return <d_value>\n",
    "\n",
    "def NearestNeighborSearch(X, q):\n",
    "    min_distance = inf\n",
    "    nearest_neighbor = None\n",
    "\n",
    "    for each object x_i in X:\n",
    "        dist = d(x_i, q)\n",
    "        ff dist < min_distance:\n",
    "            min_distance = dist\n",
    "            nearest_neighbor = x\n",
    "    return nearest_neighbor\n",
    "```"
   ]
  },
  {
   "cell_type": "markdown",
   "metadata": {},
   "source": [
    "(b) Explain how to use the lower-bound distance dLB to speed up the search algorithm of the previous part. Write pseudocode for the modified search algorithm."
   ]
  },
  {
   "cell_type": "markdown",
   "metadata": {},
   "source": [
    "We can use the Lower Bound distance to enable Early Stopping \n",
    "\n",
    "If the lower-bound distance $d_{LB}(x, q)$ for an object x is larger than d(y, q), where y is another object, then x cannot be nearer to q than y is due to the inequality \n",
    "\n",
    "$$ d(x, q) \\ge d_{LB}(x, q) > d(y, q)  $$\n",
    "Therefore, we can skip computing d(x, q). \n",
    "\n",
    "How to incorporate the lower-bound distance into the search algorithm?:\n",
    "\n",
    "First, we compute the lower-bound distance for all objects in X. Then, we sort the objects in X according to their lower-bound distances, and call it X_sorted. Finally, we use X_sorted to perform the nearest neighbor search. If the lower-bound distance of an object x_i during the search is larger than the current true distance of the current nearest neighbor, then we can stop the search, since we know that all remaining objects in X_sorted are farther away from q than the current nearest neighbor due to the inequality above"
   ]
  },
  {
   "cell_type": "markdown",
   "metadata": {},
   "source": [
    "The pseudocode: \n",
    "\n",
    "```\n",
    "def d(x, y):\n",
    "    # expensive distance function\n",
    "    return <d_value>\n",
    "\n",
    "def d_LB(x, y):\n",
    "    # cheap lower bound distance function\n",
    "    return <d_LB_value>\n",
    "\n",
    "def NearestNeighborSearchLB(X, q):\n",
    "    \"\"\"\n",
    "    Arguments:\n",
    "        X: Data set of N objects {x1,...,xn}\n",
    "        q: Query object\n",
    "    Return:\n",
    "        x*: Object in X that is nearest to q based on distance d  \n",
    "    \"\"\"\n",
    "        \n",
    "    # Initialize an array to store the lower-bound distances\n",
    "    X_dLB = [] \n",
    "    \n",
    "    # compute lower-bound distances\n",
    "    for each object x_i in X:\n",
    "        dist_LB = d_LB(x_i, q)\n",
    "        X_dLB.append(dist_LB)\n",
    "    \n",
    "    # sort the objects in X according to their lower-bound distances\n",
    "    X_zip_dLB = zip(X, X_dLB)\n",
    "    X_zip_dLB_sorted = sorted(X_zip_dLB, key=x[1]) # sort X by dLB\n",
    "\n",
    "    min_distance = inf\n",
    "    nearest_neighbor = None\n",
    "\n",
    "    # We perform the search on the sorted X based on dLB\n",
    "    for each tuple x_i, dLB in X_zip_dLB_sorted:\n",
    "        if dLB > min_distance:\n",
    "            break \n",
    "            # early stopping, since all remaining objects are \n",
    "            # farther away than the current nearest neighbor\n",
    "        \n",
    "        # Important: only calculate d if dLB <= min_distance\n",
    "        dist = d(x_i, q)\n",
    "        if dist < min_distance:\n",
    "            min_distance = dist\n",
    "            nearest_neighbor = x_i\n",
    "    \n",
    "    return nearest_neighbor\n",
    "```"
   ]
  },
  {
   "cell_type": "markdown",
   "metadata": {},
   "source": [
    "(c) What is a desirable property for the lower-bound distance dLB to be as\n",
    "effective as possible for the modified algorithm? Explain why."
   ]
  },
  {
   "cell_type": "markdown",
   "metadata": {},
   "source": [
    "Three properties are desirable for the lower-bound distance dLB to be as effective as possible for the modified algorithm:\n",
    "\n",
    "1. The lower-bound distance should be as close as possible to the true distance. Good $d_{LB}$ will help as early as possible pruning data points that are far away from the query point.\n",
    "\n",
    "2. The lower-bound distance should be as cheap as possible to compute. Otherwise, the cost of computing the lower-bound distance will be too high and will not help to speed up the search.\n",
    "\n",
    "3. The lower-bound distance should be unique for each object as much as possible. Otherwise, the sorting step becomes trivial and we cannot carry out much pruning. "
   ]
  }
 ],
 "metadata": {
  "kernelspec": {
   "display_name": "Python 3",
   "language": "python",
   "name": "python3"
  },
  "language_info": {
   "codemirror_mode": {
    "name": "ipython",
    "version": 3
   },
   "file_extension": ".py",
   "mimetype": "text/x-python",
   "name": "python",
   "nbconvert_exporter": "python",
   "pygments_lexer": "ipython3",
   "version": "3.11.3"
  },
  "orig_nbformat": 4
 },
 "nbformat": 4,
 "nbformat_minor": 2
}
