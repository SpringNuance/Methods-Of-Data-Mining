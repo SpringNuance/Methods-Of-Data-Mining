{
 "cells": [
  {
   "cell_type": "markdown",
   "metadata": {},
   "source": [
    "### 3.3 Monotonic upperbounds for leverage\n",
    "\n",
    "Learning goal: Concept of monotonicity; how to prove and utilize monotonic\n",
    "upperbounds of goodness measures in the search.\n",
    "\n",
    "In this task, you should prove monotonic upperbounds for the leverage ($\\delta$) and then design an association rule discovery algorithm that utilizes the bounds. In the following, $\\mathbf{R}$ denotes the set of all attributes, $C \\in \\mathbf{R}$ is a single attribute, $\\mathbf{X} \\subseteq \\mathbf{R} \\backslash \\{C\\}$ and $\\mathbf{Q} \\subseteq R \\backslash X \\backslash {C}$ are sets of attributes.\n",
    "\n",
    "Hint: Remember that $\\delta(\\mathbf{X}, C) \\leq \\min \\{ P(\\mathbf{X})P(\\neg C), P(\\neg X)P(C) \\}$."
   ]
  },
  {
   "cell_type": "code",
   "execution_count": 2,
   "metadata": {},
   "outputs": [],
   "source": [
    "import pandas as pd\n",
    "import numpy as np\n",
    "import networkx as nx\n",
    "import matplotlib.pyplot as plt"
   ]
  },
  {
   "cell_type": "markdown",
   "metadata": {},
   "source": [
    "(a) Show that $\\delta (\\mathbf{X}, C) \\leq P(C)P( \\neg C)$."
   ]
  },
  {
   "cell_type": "markdown",
   "metadata": {},
   "source": [
    "(b) Show that $ \\delta(\\mathbf{XQ}, C) ≤ P(\\mathbf{X})P(\\neg C)$"
   ]
  },
  {
   "cell_type": "markdown",
   "metadata": {},
   "source": [
    "(c) Show that $\\delta (\\mathbf{XQ}, C) \\leq P(\\mathbf{X}C)P(\\neg C)$."
   ]
  },
  {
   "cell_type": "markdown",
   "metadata": {},
   "source": [
    "(d) Describe a search algorithm that finds the top-$K$ best association rules\n",
    "of the form $\\mathbf{Y} \\rightarrow A$, where $A \\in \\mathbf{R}$ and $\\mathbf{Y} \\subseteq \\mathbf{R} \\backslash \\{A\\}$, using leverage as the goodness function. In addition, leverages of all discovered rules\n",
    "should be at least $\\min_\\delta > 0$, where $\\min_\\delta$ is an arbitrary user provided\n",
    "threshold. (If you cannot find $K$ rules, then return as many as you can find). It suffices to describe the algorithm in a general level, but tell how the three upperbounds are utilized in pruning the search space."
   ]
  }
 ],
 "metadata": {
  "kernelspec": {
   "display_name": "Python 3",
   "language": "python",
   "name": "python3"
  },
  "language_info": {
   "codemirror_mode": {
    "name": "ipython",
    "version": 3
   },
   "file_extension": ".py",
   "mimetype": "text/x-python",
   "name": "python",
   "nbconvert_exporter": "python",
   "pygments_lexer": "ipython3",
   "version": "3.11.3"
  },
  "orig_nbformat": 4
 },
 "nbformat": 4,
 "nbformat_minor": 2
}
