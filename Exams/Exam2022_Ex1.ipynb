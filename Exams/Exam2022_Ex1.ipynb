{
 "cells": [
  {
   "cell_type": "markdown",
   "metadata": {},
   "source": [
    "Explain briefly, with 30-50 words, a mathematical definition and/or an illustration, the following concepts or abbreviations:\n",
    "\n",
    "a) similarity vs. distance vs. metric\n",
    "\n",
    "b) swap randomization\n",
    "\n",
    "c) closeness centrality\n",
    "\n",
    "d) PageRank\n",
    "\n",
    "e) tf-idf vector\n"
   ]
  },
  {
   "cell_type": "markdown",
   "metadata": {},
   "source": [
    "a) Similarity vs. Distance vs. Metric:\n",
    "\n",
    "Similarity: A measure that quantifies how alike two data objects are. Higher similarity implies more alike objects. It's often used in clustering and classification.\n",
    "Distance: Conversely, it quantifies how different two objects are. Common distances include Euclidean or Manhattan distance.\n",
    "Metric: A mathematical function defining a distance that adheres to specific properties like non-negativity, identity, symmetry, and triangle inequality.\n",
    "\n",
    "b) Swap Randomization:\n",
    "This technique pertains to randomizing data by swapping attributes within a dataset to generate new samples. It's used to create null models for hypothesis testing, preserving some structural properties of the data while breaking the original relationships.\n",
    "\n",
    "c) Closeness Centrality:\n",
    "In the context of data mining, especially social network analysis, closeness centrality measures the degree to which a node is near all other nodes in a network. It is inversely related to the average shortest path length and is used to identify influential nodes.\n",
    "\n",
    "d) PageRank:\n",
    "PageRank is an algorithm originally used by Google Search to rank web pages in search results. It works by counting the number and quality of links to a page to determine a rough estimate of the page's importance or authority.\n",
    "\n",
    "e) TF-IDF Vector:\n",
    "Term Frequency-Inverse Document Frequency (TF-IDF) is a numerical statistic intended to reflect how important a word is to a document in a collection or corpus. It's often used for weighting and evaluation in text mining and information retrieval. TF-IDF increases with the number of times a word appears in a document but is offset by the frequency of the word in the corpus.\n",
    "\n",
    "TD-IDF formula is \n",
    "\n",
    "$$\n",
    "\\text{TF-IDF}(t, d) =  \\text{TF}(t, d) \\times \\text{IDF(d)}= \\text{TF}(t, d) \\times \\log \\frac{N}{|\\{d \\in D : t \\in d\\}|}\n",
    "$$\n",
    "\n",
    "where $t$ is a term or word, $d$ is a document, $\\text{tf}(t, d)$ is the term frequency, and $\\text{idf}(t)$ is the inverse document frequency."
   ]
  }
 ],
 "metadata": {
  "language_info": {
   "name": "python"
  }
 },
 "nbformat": 4,
 "nbformat_minor": 2
}
