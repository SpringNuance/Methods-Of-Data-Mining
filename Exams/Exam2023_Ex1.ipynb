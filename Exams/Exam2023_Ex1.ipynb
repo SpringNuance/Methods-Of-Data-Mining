{
 "cells": [
  {
   "cell_type": "markdown",
   "metadata": {},
   "source": [
    "Explain briefly, with 30-50 words, a mathematical definition and/or an illustration, the following concepts or abbreviations:\n",
    "\n",
    "a) hierarchical clustering\n",
    "\n",
    "b) monotonicity of frequency\n",
    "\n",
    "c) the garden or forking paths\n",
    "\n",
    "d) the small-world problem\n",
    "\n",
    "e) bag-of-words model\n",
    "\n",
    "\n",
    "a) Hierarchical Clustering: An algorithm that builds a hierarchy of clusters by either successively merging or splitting existing clusters, visualized as a tree-like diagram called a dendrogram.\n",
    "\n",
    "b) Monotonicity of Frequency: \n",
    "Monotonicity of frequency\n",
    "\n",
    "fr(X)= absolute frequency of X\n",
    "\n",
    "P(X)= relative frequency of X\n",
    "\n",
    "(both can be called “support”)\n",
    "\n",
    "Frequency is monotone property: For all X, Y:\n",
    "\n",
    "Y ⊆ X ⇒ f r(Y) ≥ f r(X)\n",
    "\n",
    "c) the garden of forking paths fallacy refers to how making a series of decisions along a large decision tree can lead to a higher false-positive rate in an experiment\n",
    "\n",
    "d) The Small-World Problem: In network theory, this problem refers to the phenomenon that most nodes can be reached from every other by a small number of steps, characterized by a network's short average path lengths.\n",
    "\n",
    "e) Bag-of-Words Model: A simplifying representation used in natural language processing and information retrieval, where text is represented as an unordered collection of words, disregarding grammar and word order but keeping multiplicity."
   ]
  }
 ],
 "metadata": {
  "language_info": {
   "name": "python"
  }
 },
 "nbformat": 4,
 "nbformat_minor": 2
}
